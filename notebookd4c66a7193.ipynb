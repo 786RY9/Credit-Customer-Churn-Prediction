{
 "cells": [
  {
   "cell_type": "code",
   "execution_count": 1,
   "id": "1193f58b",
   "metadata": {
    "_cell_guid": "b1076dfc-b9ad-4769-8c92-a6c4dae69d19",
    "_uuid": "8f2839f25d086af736a60e9eeb907d3b93b6e0e5",
    "execution": {
     "iopub.execute_input": "2025-07-26T05:31:18.866786Z",
     "iopub.status.busy": "2025-07-26T05:31:18.865638Z",
     "iopub.status.idle": "2025-07-26T05:31:21.186510Z",
     "shell.execute_reply": "2025-07-26T05:31:21.184878Z"
    },
    "papermill": {
     "duration": 2.331177,
     "end_time": "2025-07-26T05:31:21.188451",
     "exception": false,
     "start_time": "2025-07-26T05:31:18.857274",
     "status": "completed"
    },
    "tags": []
   },
   "outputs": [
    {
     "name": "stdout",
     "output_type": "stream",
     "text": [
      "/kaggle/input/credit-card-customer-churn-prediction/Churn_Modelling.csv\n"
     ]
    }
   ],
   "source": [
    "# This Python 3 environment comes with many helpful analytics libraries installed\n",
    "# It is defined by the kaggle/python Docker image: https://github.com/kaggle/docker-python\n",
    "# For example, here's several helpful packages to load\n",
    "\n",
    "import numpy as np # linear algebra\n",
    "import pandas as pd # data processing, CSV file I/O (e.g. pd.read_csv)\n",
    "\n",
    "# Input data files are available in the read-only \"../input/\" directory\n",
    "# For example, running this (by clicking run or pressing Shift+Enter) will list all files under the input directory\n",
    "\n",
    "import os\n",
    "for dirname, _, filenames in os.walk('/kaggle/input'):\n",
    "    for filename in filenames:\n",
    "        print(os.path.join(dirname, filename))\n",
    "\n",
    "# You can write up to 20GB to the current directory (/kaggle/working/) that gets preserved as output when you create a version using \"Save & Run All\" \n",
    "# You can also write temporary files to /kaggle/temp/, but they won't be saved outside of the current session"
   ]
  },
  {
   "cell_type": "code",
   "execution_count": 2,
   "id": "0845e2de",
   "metadata": {
    "execution": {
     "iopub.execute_input": "2025-07-26T05:31:21.201221Z",
     "iopub.status.busy": "2025-07-26T05:31:21.200754Z",
     "iopub.status.idle": "2025-07-26T05:31:21.271279Z",
     "shell.execute_reply": "2025-07-26T05:31:21.269910Z"
    },
    "papermill": {
     "duration": 0.079088,
     "end_time": "2025-07-26T05:31:21.273323",
     "exception": false,
     "start_time": "2025-07-26T05:31:21.194235",
     "status": "completed"
    },
    "tags": []
   },
   "outputs": [],
   "source": [
    "df = pd.read_csv('/kaggle/input/credit-card-customer-churn-prediction/Churn_Modelling.csv')"
   ]
  },
  {
   "cell_type": "code",
   "execution_count": 3,
   "id": "d69ca320",
   "metadata": {
    "execution": {
     "iopub.execute_input": "2025-07-26T05:31:21.285878Z",
     "iopub.status.busy": "2025-07-26T05:31:21.285457Z",
     "iopub.status.idle": "2025-07-26T05:31:21.319417Z",
     "shell.execute_reply": "2025-07-26T05:31:21.318309Z"
    },
    "papermill": {
     "duration": 0.042754,
     "end_time": "2025-07-26T05:31:21.321492",
     "exception": false,
     "start_time": "2025-07-26T05:31:21.278738",
     "status": "completed"
    },
    "tags": []
   },
   "outputs": [
    {
     "data": {
      "text/html": [
       "<div>\n",
       "<style scoped>\n",
       "    .dataframe tbody tr th:only-of-type {\n",
       "        vertical-align: middle;\n",
       "    }\n",
       "\n",
       "    .dataframe tbody tr th {\n",
       "        vertical-align: top;\n",
       "    }\n",
       "\n",
       "    .dataframe thead th {\n",
       "        text-align: right;\n",
       "    }\n",
       "</style>\n",
       "<table border=\"1\" class=\"dataframe\">\n",
       "  <thead>\n",
       "    <tr style=\"text-align: right;\">\n",
       "      <th></th>\n",
       "      <th>RowNumber</th>\n",
       "      <th>CustomerId</th>\n",
       "      <th>Surname</th>\n",
       "      <th>CreditScore</th>\n",
       "      <th>Geography</th>\n",
       "      <th>Gender</th>\n",
       "      <th>Age</th>\n",
       "      <th>Tenure</th>\n",
       "      <th>Balance</th>\n",
       "      <th>NumOfProducts</th>\n",
       "      <th>HasCrCard</th>\n",
       "      <th>IsActiveMember</th>\n",
       "      <th>EstimatedSalary</th>\n",
       "      <th>Exited</th>\n",
       "    </tr>\n",
       "  </thead>\n",
       "  <tbody>\n",
       "    <tr>\n",
       "      <th>0</th>\n",
       "      <td>1</td>\n",
       "      <td>15634602</td>\n",
       "      <td>Hargrave</td>\n",
       "      <td>619</td>\n",
       "      <td>France</td>\n",
       "      <td>Female</td>\n",
       "      <td>42</td>\n",
       "      <td>2</td>\n",
       "      <td>0.00</td>\n",
       "      <td>1</td>\n",
       "      <td>1</td>\n",
       "      <td>1</td>\n",
       "      <td>101348.88</td>\n",
       "      <td>1</td>\n",
       "    </tr>\n",
       "    <tr>\n",
       "      <th>1</th>\n",
       "      <td>2</td>\n",
       "      <td>15647311</td>\n",
       "      <td>Hill</td>\n",
       "      <td>608</td>\n",
       "      <td>Spain</td>\n",
       "      <td>Female</td>\n",
       "      <td>41</td>\n",
       "      <td>1</td>\n",
       "      <td>83807.86</td>\n",
       "      <td>1</td>\n",
       "      <td>0</td>\n",
       "      <td>1</td>\n",
       "      <td>112542.58</td>\n",
       "      <td>0</td>\n",
       "    </tr>\n",
       "    <tr>\n",
       "      <th>2</th>\n",
       "      <td>3</td>\n",
       "      <td>15619304</td>\n",
       "      <td>Onio</td>\n",
       "      <td>502</td>\n",
       "      <td>France</td>\n",
       "      <td>Female</td>\n",
       "      <td>42</td>\n",
       "      <td>8</td>\n",
       "      <td>159660.80</td>\n",
       "      <td>3</td>\n",
       "      <td>1</td>\n",
       "      <td>0</td>\n",
       "      <td>113931.57</td>\n",
       "      <td>1</td>\n",
       "    </tr>\n",
       "    <tr>\n",
       "      <th>3</th>\n",
       "      <td>4</td>\n",
       "      <td>15701354</td>\n",
       "      <td>Boni</td>\n",
       "      <td>699</td>\n",
       "      <td>France</td>\n",
       "      <td>Female</td>\n",
       "      <td>39</td>\n",
       "      <td>1</td>\n",
       "      <td>0.00</td>\n",
       "      <td>2</td>\n",
       "      <td>0</td>\n",
       "      <td>0</td>\n",
       "      <td>93826.63</td>\n",
       "      <td>0</td>\n",
       "    </tr>\n",
       "    <tr>\n",
       "      <th>4</th>\n",
       "      <td>5</td>\n",
       "      <td>15737888</td>\n",
       "      <td>Mitchell</td>\n",
       "      <td>850</td>\n",
       "      <td>Spain</td>\n",
       "      <td>Female</td>\n",
       "      <td>43</td>\n",
       "      <td>2</td>\n",
       "      <td>125510.82</td>\n",
       "      <td>1</td>\n",
       "      <td>1</td>\n",
       "      <td>1</td>\n",
       "      <td>79084.10</td>\n",
       "      <td>0</td>\n",
       "    </tr>\n",
       "  </tbody>\n",
       "</table>\n",
       "</div>"
      ],
      "text/plain": [
       "   RowNumber  CustomerId   Surname  CreditScore Geography  Gender  Age  \\\n",
       "0          1    15634602  Hargrave          619    France  Female   42   \n",
       "1          2    15647311      Hill          608     Spain  Female   41   \n",
       "2          3    15619304      Onio          502    France  Female   42   \n",
       "3          4    15701354      Boni          699    France  Female   39   \n",
       "4          5    15737888  Mitchell          850     Spain  Female   43   \n",
       "\n",
       "   Tenure    Balance  NumOfProducts  HasCrCard  IsActiveMember  \\\n",
       "0       2       0.00              1          1               1   \n",
       "1       1   83807.86              1          0               1   \n",
       "2       8  159660.80              3          1               0   \n",
       "3       1       0.00              2          0               0   \n",
       "4       2  125510.82              1          1               1   \n",
       "\n",
       "   EstimatedSalary  Exited  \n",
       "0        101348.88       1  \n",
       "1        112542.58       0  \n",
       "2        113931.57       1  \n",
       "3         93826.63       0  \n",
       "4         79084.10       0  "
      ]
     },
     "execution_count": 3,
     "metadata": {},
     "output_type": "execute_result"
    }
   ],
   "source": [
    "df.head()\n",
    "# print(df.shape)"
   ]
  },
  {
   "cell_type": "code",
   "execution_count": 4,
   "id": "a52cf128",
   "metadata": {
    "execution": {
     "iopub.execute_input": "2025-07-26T05:31:21.334280Z",
     "iopub.status.busy": "2025-07-26T05:31:21.333886Z",
     "iopub.status.idle": "2025-07-26T05:31:21.369063Z",
     "shell.execute_reply": "2025-07-26T05:31:21.367251Z"
    },
    "papermill": {
     "duration": 0.043874,
     "end_time": "2025-07-26T05:31:21.371016",
     "exception": false,
     "start_time": "2025-07-26T05:31:21.327142",
     "status": "completed"
    },
    "tags": []
   },
   "outputs": [
    {
     "name": "stdout",
     "output_type": "stream",
     "text": [
      "<class 'pandas.core.frame.DataFrame'>\n",
      "RangeIndex: 10000 entries, 0 to 9999\n",
      "Data columns (total 14 columns):\n",
      " #   Column           Non-Null Count  Dtype  \n",
      "---  ------           --------------  -----  \n",
      " 0   RowNumber        10000 non-null  int64  \n",
      " 1   CustomerId       10000 non-null  int64  \n",
      " 2   Surname          10000 non-null  object \n",
      " 3   CreditScore      10000 non-null  int64  \n",
      " 4   Geography        10000 non-null  object \n",
      " 5   Gender           10000 non-null  object \n",
      " 6   Age              10000 non-null  int64  \n",
      " 7   Tenure           10000 non-null  int64  \n",
      " 8   Balance          10000 non-null  float64\n",
      " 9   NumOfProducts    10000 non-null  int64  \n",
      " 10  HasCrCard        10000 non-null  int64  \n",
      " 11  IsActiveMember   10000 non-null  int64  \n",
      " 12  EstimatedSalary  10000 non-null  float64\n",
      " 13  Exited           10000 non-null  int64  \n",
      "dtypes: float64(2), int64(9), object(3)\n",
      "memory usage: 1.1+ MB\n"
     ]
    }
   ],
   "source": [
    "df.info()"
   ]
  },
  {
   "cell_type": "code",
   "execution_count": 5,
   "id": "e7b0a9fb",
   "metadata": {
    "execution": {
     "iopub.execute_input": "2025-07-26T05:31:21.383662Z",
     "iopub.status.busy": "2025-07-26T05:31:21.383348Z",
     "iopub.status.idle": "2025-07-26T05:31:21.399928Z",
     "shell.execute_reply": "2025-07-26T05:31:21.398807Z"
    },
    "papermill": {
     "duration": 0.026318,
     "end_time": "2025-07-26T05:31:21.402935",
     "exception": false,
     "start_time": "2025-07-26T05:31:21.376617",
     "status": "completed"
    },
    "tags": []
   },
   "outputs": [
    {
     "data": {
      "text/plain": [
       "0"
      ]
     },
     "execution_count": 5,
     "metadata": {},
     "output_type": "execute_result"
    }
   ],
   "source": [
    "df.duplicated().sum()"
   ]
  },
  {
   "cell_type": "code",
   "execution_count": 6,
   "id": "7803ac09",
   "metadata": {
    "execution": {
     "iopub.execute_input": "2025-07-26T05:31:21.418071Z",
     "iopub.status.busy": "2025-07-26T05:31:21.416827Z",
     "iopub.status.idle": "2025-07-26T05:31:21.428703Z",
     "shell.execute_reply": "2025-07-26T05:31:21.427179Z"
    },
    "papermill": {
     "duration": 0.021411,
     "end_time": "2025-07-26T05:31:21.430575",
     "exception": false,
     "start_time": "2025-07-26T05:31:21.409164",
     "status": "completed"
    },
    "tags": []
   },
   "outputs": [
    {
     "data": {
      "text/plain": [
       "Exited\n",
       "0    7963\n",
       "1    2037\n",
       "Name: count, dtype: int64"
      ]
     },
     "execution_count": 6,
     "metadata": {},
     "output_type": "execute_result"
    }
   ],
   "source": [
    "df['Exited'].value_counts()"
   ]
  },
  {
   "cell_type": "code",
   "execution_count": 7,
   "id": "e1d876ee",
   "metadata": {
    "execution": {
     "iopub.execute_input": "2025-07-26T05:31:21.447155Z",
     "iopub.status.busy": "2025-07-26T05:31:21.446331Z",
     "iopub.status.idle": "2025-07-26T05:31:21.456530Z",
     "shell.execute_reply": "2025-07-26T05:31:21.455138Z"
    },
    "papermill": {
     "duration": 0.02112,
     "end_time": "2025-07-26T05:31:21.458370",
     "exception": false,
     "start_time": "2025-07-26T05:31:21.437250",
     "status": "completed"
    },
    "tags": []
   },
   "outputs": [
    {
     "data": {
      "text/plain": [
       "Geography\n",
       "France     5014\n",
       "Germany    2509\n",
       "Spain      2477\n",
       "Name: count, dtype: int64"
      ]
     },
     "execution_count": 7,
     "metadata": {},
     "output_type": "execute_result"
    }
   ],
   "source": [
    "df['Geography'].value_counts()"
   ]
  },
  {
   "cell_type": "code",
   "execution_count": 8,
   "id": "b07812cc",
   "metadata": {
    "execution": {
     "iopub.execute_input": "2025-07-26T05:31:21.472401Z",
     "iopub.status.busy": "2025-07-26T05:31:21.472033Z",
     "iopub.status.idle": "2025-07-26T05:31:21.482794Z",
     "shell.execute_reply": "2025-07-26T05:31:21.481541Z"
    },
    "papermill": {
     "duration": 0.0204,
     "end_time": "2025-07-26T05:31:21.484996",
     "exception": false,
     "start_time": "2025-07-26T05:31:21.464596",
     "status": "completed"
    },
    "tags": []
   },
   "outputs": [
    {
     "data": {
      "text/plain": [
       "Gender\n",
       "Male      5457\n",
       "Female    4543\n",
       "Name: count, dtype: int64"
      ]
     },
     "execution_count": 8,
     "metadata": {},
     "output_type": "execute_result"
    }
   ],
   "source": [
    "df['Gender'].value_counts()"
   ]
  },
  {
   "cell_type": "code",
   "execution_count": 9,
   "id": "9adfe031",
   "metadata": {
    "execution": {
     "iopub.execute_input": "2025-07-26T05:31:21.499346Z",
     "iopub.status.busy": "2025-07-26T05:31:21.499028Z",
     "iopub.status.idle": "2025-07-26T05:31:21.509582Z",
     "shell.execute_reply": "2025-07-26T05:31:21.508253Z"
    },
    "papermill": {
     "duration": 0.020441,
     "end_time": "2025-07-26T05:31:21.511899",
     "exception": false,
     "start_time": "2025-07-26T05:31:21.491458",
     "status": "completed"
    },
    "tags": []
   },
   "outputs": [],
   "source": [
    "df.drop(columns=['RowNumber','CustomerId','Surname'], inplace=True)"
   ]
  },
  {
   "cell_type": "code",
   "execution_count": 10,
   "id": "d18b0337",
   "metadata": {
    "execution": {
     "iopub.execute_input": "2025-07-26T05:31:21.525047Z",
     "iopub.status.busy": "2025-07-26T05:31:21.524751Z",
     "iopub.status.idle": "2025-07-26T05:31:21.538896Z",
     "shell.execute_reply": "2025-07-26T05:31:21.537738Z"
    },
    "papermill": {
     "duration": 0.022684,
     "end_time": "2025-07-26T05:31:21.540701",
     "exception": false,
     "start_time": "2025-07-26T05:31:21.518017",
     "status": "completed"
    },
    "tags": []
   },
   "outputs": [
    {
     "data": {
      "text/html": [
       "<div>\n",
       "<style scoped>\n",
       "    .dataframe tbody tr th:only-of-type {\n",
       "        vertical-align: middle;\n",
       "    }\n",
       "\n",
       "    .dataframe tbody tr th {\n",
       "        vertical-align: top;\n",
       "    }\n",
       "\n",
       "    .dataframe thead th {\n",
       "        text-align: right;\n",
       "    }\n",
       "</style>\n",
       "<table border=\"1\" class=\"dataframe\">\n",
       "  <thead>\n",
       "    <tr style=\"text-align: right;\">\n",
       "      <th></th>\n",
       "      <th>CreditScore</th>\n",
       "      <th>Geography</th>\n",
       "      <th>Gender</th>\n",
       "      <th>Age</th>\n",
       "      <th>Tenure</th>\n",
       "      <th>Balance</th>\n",
       "      <th>NumOfProducts</th>\n",
       "      <th>HasCrCard</th>\n",
       "      <th>IsActiveMember</th>\n",
       "      <th>EstimatedSalary</th>\n",
       "      <th>Exited</th>\n",
       "    </tr>\n",
       "  </thead>\n",
       "  <tbody>\n",
       "    <tr>\n",
       "      <th>0</th>\n",
       "      <td>619</td>\n",
       "      <td>France</td>\n",
       "      <td>Female</td>\n",
       "      <td>42</td>\n",
       "      <td>2</td>\n",
       "      <td>0.00</td>\n",
       "      <td>1</td>\n",
       "      <td>1</td>\n",
       "      <td>1</td>\n",
       "      <td>101348.88</td>\n",
       "      <td>1</td>\n",
       "    </tr>\n",
       "    <tr>\n",
       "      <th>1</th>\n",
       "      <td>608</td>\n",
       "      <td>Spain</td>\n",
       "      <td>Female</td>\n",
       "      <td>41</td>\n",
       "      <td>1</td>\n",
       "      <td>83807.86</td>\n",
       "      <td>1</td>\n",
       "      <td>0</td>\n",
       "      <td>1</td>\n",
       "      <td>112542.58</td>\n",
       "      <td>0</td>\n",
       "    </tr>\n",
       "    <tr>\n",
       "      <th>2</th>\n",
       "      <td>502</td>\n",
       "      <td>France</td>\n",
       "      <td>Female</td>\n",
       "      <td>42</td>\n",
       "      <td>8</td>\n",
       "      <td>159660.80</td>\n",
       "      <td>3</td>\n",
       "      <td>1</td>\n",
       "      <td>0</td>\n",
       "      <td>113931.57</td>\n",
       "      <td>1</td>\n",
       "    </tr>\n",
       "    <tr>\n",
       "      <th>3</th>\n",
       "      <td>699</td>\n",
       "      <td>France</td>\n",
       "      <td>Female</td>\n",
       "      <td>39</td>\n",
       "      <td>1</td>\n",
       "      <td>0.00</td>\n",
       "      <td>2</td>\n",
       "      <td>0</td>\n",
       "      <td>0</td>\n",
       "      <td>93826.63</td>\n",
       "      <td>0</td>\n",
       "    </tr>\n",
       "    <tr>\n",
       "      <th>4</th>\n",
       "      <td>850</td>\n",
       "      <td>Spain</td>\n",
       "      <td>Female</td>\n",
       "      <td>43</td>\n",
       "      <td>2</td>\n",
       "      <td>125510.82</td>\n",
       "      <td>1</td>\n",
       "      <td>1</td>\n",
       "      <td>1</td>\n",
       "      <td>79084.10</td>\n",
       "      <td>0</td>\n",
       "    </tr>\n",
       "  </tbody>\n",
       "</table>\n",
       "</div>"
      ],
      "text/plain": [
       "   CreditScore Geography  Gender  Age  Tenure    Balance  NumOfProducts  \\\n",
       "0          619    France  Female   42       2       0.00              1   \n",
       "1          608     Spain  Female   41       1   83807.86              1   \n",
       "2          502    France  Female   42       8  159660.80              3   \n",
       "3          699    France  Female   39       1       0.00              2   \n",
       "4          850     Spain  Female   43       2  125510.82              1   \n",
       "\n",
       "   HasCrCard  IsActiveMember  EstimatedSalary  Exited  \n",
       "0          1               1        101348.88       1  \n",
       "1          0               1        112542.58       0  \n",
       "2          1               0        113931.57       1  \n",
       "3          0               0         93826.63       0  \n",
       "4          1               1         79084.10       0  "
      ]
     },
     "execution_count": 10,
     "metadata": {},
     "output_type": "execute_result"
    }
   ],
   "source": [
    "df.head()"
   ]
  },
  {
   "cell_type": "markdown",
   "id": "4625f891",
   "metadata": {
    "papermill": {
     "duration": 0.005887,
     "end_time": "2025-07-26T05:31:21.552655",
     "exception": false,
     "start_time": "2025-07-26T05:31:21.546768",
     "status": "completed"
    },
    "tags": []
   },
   "source": [
    "One Hot Encoding of Categorical(object type) columns"
   ]
  },
  {
   "cell_type": "code",
   "execution_count": 11,
   "id": "9080002a",
   "metadata": {
    "execution": {
     "iopub.execute_input": "2025-07-26T05:31:21.565543Z",
     "iopub.status.busy": "2025-07-26T05:31:21.565266Z",
     "iopub.status.idle": "2025-07-26T05:31:21.578814Z",
     "shell.execute_reply": "2025-07-26T05:31:21.577698Z"
    },
    "papermill": {
     "duration": 0.02272,
     "end_time": "2025-07-26T05:31:21.581105",
     "exception": false,
     "start_time": "2025-07-26T05:31:21.558385",
     "status": "completed"
    },
    "tags": []
   },
   "outputs": [],
   "source": [
    "df = pd.get_dummies(df,columns=['Geography','Gender'],drop_first=True)"
   ]
  },
  {
   "cell_type": "code",
   "execution_count": 12,
   "id": "395abf8e",
   "metadata": {
    "execution": {
     "iopub.execute_input": "2025-07-26T05:31:21.596676Z",
     "iopub.status.busy": "2025-07-26T05:31:21.596371Z",
     "iopub.status.idle": "2025-07-26T05:31:21.616307Z",
     "shell.execute_reply": "2025-07-26T05:31:21.615258Z"
    },
    "papermill": {
     "duration": 0.030305,
     "end_time": "2025-07-26T05:31:21.618078",
     "exception": false,
     "start_time": "2025-07-26T05:31:21.587773",
     "status": "completed"
    },
    "tags": []
   },
   "outputs": [
    {
     "data": {
      "text/html": [
       "<div>\n",
       "<style scoped>\n",
       "    .dataframe tbody tr th:only-of-type {\n",
       "        vertical-align: middle;\n",
       "    }\n",
       "\n",
       "    .dataframe tbody tr th {\n",
       "        vertical-align: top;\n",
       "    }\n",
       "\n",
       "    .dataframe thead th {\n",
       "        text-align: right;\n",
       "    }\n",
       "</style>\n",
       "<table border=\"1\" class=\"dataframe\">\n",
       "  <thead>\n",
       "    <tr style=\"text-align: right;\">\n",
       "      <th></th>\n",
       "      <th>CreditScore</th>\n",
       "      <th>Age</th>\n",
       "      <th>Tenure</th>\n",
       "      <th>Balance</th>\n",
       "      <th>NumOfProducts</th>\n",
       "      <th>HasCrCard</th>\n",
       "      <th>IsActiveMember</th>\n",
       "      <th>EstimatedSalary</th>\n",
       "      <th>Exited</th>\n",
       "      <th>Geography_Germany</th>\n",
       "      <th>Geography_Spain</th>\n",
       "      <th>Gender_Male</th>\n",
       "    </tr>\n",
       "  </thead>\n",
       "  <tbody>\n",
       "    <tr>\n",
       "      <th>0</th>\n",
       "      <td>619</td>\n",
       "      <td>42</td>\n",
       "      <td>2</td>\n",
       "      <td>0.00</td>\n",
       "      <td>1</td>\n",
       "      <td>1</td>\n",
       "      <td>1</td>\n",
       "      <td>101348.88</td>\n",
       "      <td>1</td>\n",
       "      <td>False</td>\n",
       "      <td>False</td>\n",
       "      <td>False</td>\n",
       "    </tr>\n",
       "    <tr>\n",
       "      <th>1</th>\n",
       "      <td>608</td>\n",
       "      <td>41</td>\n",
       "      <td>1</td>\n",
       "      <td>83807.86</td>\n",
       "      <td>1</td>\n",
       "      <td>0</td>\n",
       "      <td>1</td>\n",
       "      <td>112542.58</td>\n",
       "      <td>0</td>\n",
       "      <td>False</td>\n",
       "      <td>True</td>\n",
       "      <td>False</td>\n",
       "    </tr>\n",
       "    <tr>\n",
       "      <th>2</th>\n",
       "      <td>502</td>\n",
       "      <td>42</td>\n",
       "      <td>8</td>\n",
       "      <td>159660.80</td>\n",
       "      <td>3</td>\n",
       "      <td>1</td>\n",
       "      <td>0</td>\n",
       "      <td>113931.57</td>\n",
       "      <td>1</td>\n",
       "      <td>False</td>\n",
       "      <td>False</td>\n",
       "      <td>False</td>\n",
       "    </tr>\n",
       "    <tr>\n",
       "      <th>3</th>\n",
       "      <td>699</td>\n",
       "      <td>39</td>\n",
       "      <td>1</td>\n",
       "      <td>0.00</td>\n",
       "      <td>2</td>\n",
       "      <td>0</td>\n",
       "      <td>0</td>\n",
       "      <td>93826.63</td>\n",
       "      <td>0</td>\n",
       "      <td>False</td>\n",
       "      <td>False</td>\n",
       "      <td>False</td>\n",
       "    </tr>\n",
       "    <tr>\n",
       "      <th>4</th>\n",
       "      <td>850</td>\n",
       "      <td>43</td>\n",
       "      <td>2</td>\n",
       "      <td>125510.82</td>\n",
       "      <td>1</td>\n",
       "      <td>1</td>\n",
       "      <td>1</td>\n",
       "      <td>79084.10</td>\n",
       "      <td>0</td>\n",
       "      <td>False</td>\n",
       "      <td>True</td>\n",
       "      <td>False</td>\n",
       "    </tr>\n",
       "    <tr>\n",
       "      <th>...</th>\n",
       "      <td>...</td>\n",
       "      <td>...</td>\n",
       "      <td>...</td>\n",
       "      <td>...</td>\n",
       "      <td>...</td>\n",
       "      <td>...</td>\n",
       "      <td>...</td>\n",
       "      <td>...</td>\n",
       "      <td>...</td>\n",
       "      <td>...</td>\n",
       "      <td>...</td>\n",
       "      <td>...</td>\n",
       "    </tr>\n",
       "    <tr>\n",
       "      <th>9995</th>\n",
       "      <td>771</td>\n",
       "      <td>39</td>\n",
       "      <td>5</td>\n",
       "      <td>0.00</td>\n",
       "      <td>2</td>\n",
       "      <td>1</td>\n",
       "      <td>0</td>\n",
       "      <td>96270.64</td>\n",
       "      <td>0</td>\n",
       "      <td>False</td>\n",
       "      <td>False</td>\n",
       "      <td>True</td>\n",
       "    </tr>\n",
       "    <tr>\n",
       "      <th>9996</th>\n",
       "      <td>516</td>\n",
       "      <td>35</td>\n",
       "      <td>10</td>\n",
       "      <td>57369.61</td>\n",
       "      <td>1</td>\n",
       "      <td>1</td>\n",
       "      <td>1</td>\n",
       "      <td>101699.77</td>\n",
       "      <td>0</td>\n",
       "      <td>False</td>\n",
       "      <td>False</td>\n",
       "      <td>True</td>\n",
       "    </tr>\n",
       "    <tr>\n",
       "      <th>9997</th>\n",
       "      <td>709</td>\n",
       "      <td>36</td>\n",
       "      <td>7</td>\n",
       "      <td>0.00</td>\n",
       "      <td>1</td>\n",
       "      <td>0</td>\n",
       "      <td>1</td>\n",
       "      <td>42085.58</td>\n",
       "      <td>1</td>\n",
       "      <td>False</td>\n",
       "      <td>False</td>\n",
       "      <td>False</td>\n",
       "    </tr>\n",
       "    <tr>\n",
       "      <th>9998</th>\n",
       "      <td>772</td>\n",
       "      <td>42</td>\n",
       "      <td>3</td>\n",
       "      <td>75075.31</td>\n",
       "      <td>2</td>\n",
       "      <td>1</td>\n",
       "      <td>0</td>\n",
       "      <td>92888.52</td>\n",
       "      <td>1</td>\n",
       "      <td>True</td>\n",
       "      <td>False</td>\n",
       "      <td>True</td>\n",
       "    </tr>\n",
       "    <tr>\n",
       "      <th>9999</th>\n",
       "      <td>792</td>\n",
       "      <td>28</td>\n",
       "      <td>4</td>\n",
       "      <td>130142.79</td>\n",
       "      <td>1</td>\n",
       "      <td>1</td>\n",
       "      <td>0</td>\n",
       "      <td>38190.78</td>\n",
       "      <td>0</td>\n",
       "      <td>False</td>\n",
       "      <td>False</td>\n",
       "      <td>False</td>\n",
       "    </tr>\n",
       "  </tbody>\n",
       "</table>\n",
       "<p>10000 rows × 12 columns</p>\n",
       "</div>"
      ],
      "text/plain": [
       "      CreditScore  Age  Tenure    Balance  NumOfProducts  HasCrCard  \\\n",
       "0             619   42       2       0.00              1          1   \n",
       "1             608   41       1   83807.86              1          0   \n",
       "2             502   42       8  159660.80              3          1   \n",
       "3             699   39       1       0.00              2          0   \n",
       "4             850   43       2  125510.82              1          1   \n",
       "...           ...  ...     ...        ...            ...        ...   \n",
       "9995          771   39       5       0.00              2          1   \n",
       "9996          516   35      10   57369.61              1          1   \n",
       "9997          709   36       7       0.00              1          0   \n",
       "9998          772   42       3   75075.31              2          1   \n",
       "9999          792   28       4  130142.79              1          1   \n",
       "\n",
       "      IsActiveMember  EstimatedSalary  Exited  Geography_Germany  \\\n",
       "0                  1        101348.88       1              False   \n",
       "1                  1        112542.58       0              False   \n",
       "2                  0        113931.57       1              False   \n",
       "3                  0         93826.63       0              False   \n",
       "4                  1         79084.10       0              False   \n",
       "...              ...              ...     ...                ...   \n",
       "9995               0         96270.64       0              False   \n",
       "9996               1        101699.77       0              False   \n",
       "9997               1         42085.58       1              False   \n",
       "9998               0         92888.52       1               True   \n",
       "9999               0         38190.78       0              False   \n",
       "\n",
       "      Geography_Spain  Gender_Male  \n",
       "0               False        False  \n",
       "1                True        False  \n",
       "2               False        False  \n",
       "3               False        False  \n",
       "4                True        False  \n",
       "...               ...          ...  \n",
       "9995            False         True  \n",
       "9996            False         True  \n",
       "9997            False        False  \n",
       "9998            False         True  \n",
       "9999            False        False  \n",
       "\n",
       "[10000 rows x 12 columns]"
      ]
     },
     "execution_count": 12,
     "metadata": {},
     "output_type": "execute_result"
    }
   ],
   "source": [
    "df"
   ]
  },
  {
   "cell_type": "code",
   "execution_count": 13,
   "id": "0c6c6c73",
   "metadata": {
    "execution": {
     "iopub.execute_input": "2025-07-26T05:31:21.635309Z",
     "iopub.status.busy": "2025-07-26T05:31:21.633893Z",
     "iopub.status.idle": "2025-07-26T05:31:23.676211Z",
     "shell.execute_reply": "2025-07-26T05:31:23.675090Z"
    },
    "papermill": {
     "duration": 2.053145,
     "end_time": "2025-07-26T05:31:23.678124",
     "exception": false,
     "start_time": "2025-07-26T05:31:21.624979",
     "status": "completed"
    },
    "tags": []
   },
   "outputs": [],
   "source": [
    "from sklearn.model_selection import train_test_split\n",
    "X= df.drop(columns=['Exited'])\n",
    "y = df['Exited']\n",
    "X_train, X_test,y_train,y_test = train_test_split(X,y,test_size=0.2, random_state=1)"
   ]
  },
  {
   "cell_type": "code",
   "execution_count": 14,
   "id": "a333ecbc",
   "metadata": {
    "execution": {
     "iopub.execute_input": "2025-07-26T05:31:23.693291Z",
     "iopub.status.busy": "2025-07-26T05:31:23.692182Z",
     "iopub.status.idle": "2025-07-26T05:31:23.745802Z",
     "shell.execute_reply": "2025-07-26T05:31:23.744510Z"
    },
    "papermill": {
     "duration": 0.06335,
     "end_time": "2025-07-26T05:31:23.747913",
     "exception": false,
     "start_time": "2025-07-26T05:31:23.684563",
     "status": "completed"
    },
    "tags": []
   },
   "outputs": [],
   "source": [
    "from sklearn.preprocessing import StandardScaler\n",
    "scaler = StandardScaler()\n",
    "X_train_scaled = scaler.fit_transform(X_train)\n",
    "X_test_scaled = scaler.transform(X_test)"
   ]
  },
  {
   "cell_type": "code",
   "execution_count": 15,
   "id": "0b0e6ea1",
   "metadata": {
    "execution": {
     "iopub.execute_input": "2025-07-26T05:31:23.762903Z",
     "iopub.status.busy": "2025-07-26T05:31:23.762472Z",
     "iopub.status.idle": "2025-07-26T05:31:23.770962Z",
     "shell.execute_reply": "2025-07-26T05:31:23.769661Z"
    },
    "papermill": {
     "duration": 0.017923,
     "end_time": "2025-07-26T05:31:23.772714",
     "exception": false,
     "start_time": "2025-07-26T05:31:23.754791",
     "status": "completed"
    },
    "tags": []
   },
   "outputs": [
    {
     "data": {
      "text/plain": [
       "array([[-0.23082038, -0.94449979, -0.70174202, ...,  1.71490137,\n",
       "        -0.57273139,  0.91509065],\n",
       "       [-0.25150912, -0.94449979, -0.35520275, ..., -0.58312392,\n",
       "        -0.57273139, -1.09278791],\n",
       "       [-0.3963303 ,  0.77498705,  0.33787579, ...,  1.71490137,\n",
       "        -0.57273139, -1.09278791],\n",
       "       ...,\n",
       "       [ 0.22433188,  0.58393295,  1.3774936 , ..., -0.58312392,\n",
       "        -0.57273139, -1.09278791],\n",
       "       [ 0.13123255,  0.01077067,  1.03095433, ..., -0.58312392,\n",
       "        -0.57273139, -1.09278791],\n",
       "       [ 1.1656695 ,  0.29735181,  0.33787579, ...,  1.71490137,\n",
       "        -0.57273139,  0.91509065]])"
      ]
     },
     "execution_count": 15,
     "metadata": {},
     "output_type": "execute_result"
    }
   ],
   "source": [
    "X_train_scaled"
   ]
  },
  {
   "cell_type": "code",
   "execution_count": 16,
   "id": "f2927559",
   "metadata": {
    "execution": {
     "iopub.execute_input": "2025-07-26T05:31:23.787342Z",
     "iopub.status.busy": "2025-07-26T05:31:23.786949Z",
     "iopub.status.idle": "2025-07-26T05:31:23.794218Z",
     "shell.execute_reply": "2025-07-26T05:31:23.793172Z"
    },
    "papermill": {
     "duration": 0.016866,
     "end_time": "2025-07-26T05:31:23.796149",
     "exception": false,
     "start_time": "2025-07-26T05:31:23.779283",
     "status": "completed"
    },
    "tags": []
   },
   "outputs": [
    {
     "data": {
      "text/plain": [
       "array([[-1.03768121,  0.77498705, -1.0482813 , ..., -0.58312392,\n",
       "        -0.57273139,  0.91509065],\n",
       "       [ 0.30708683, -0.46686456, -0.70174202, ..., -0.58312392,\n",
       "        -0.57273139,  0.91509065],\n",
       "       [-1.23422423,  0.29735181, -1.0482813 , ..., -0.58312392,\n",
       "        -0.57273139, -1.09278791],\n",
       "       ...,\n",
       "       [-0.86182692, -0.46686456,  1.72403288, ..., -0.58312392,\n",
       "         1.74601919,  0.91509065],\n",
       "       [-0.30323097, -0.84897275, -1.0482813 , ...,  1.71490137,\n",
       "        -0.57273139, -1.09278791],\n",
       "       [ 0.04847759,  1.25262228,  1.3774936 , ...,  1.71490137,\n",
       "        -0.57273139,  0.91509065]])"
      ]
     },
     "execution_count": 16,
     "metadata": {},
     "output_type": "execute_result"
    }
   ],
   "source": [
    "X_test_scaled"
   ]
  },
  {
   "cell_type": "code",
   "execution_count": null,
   "id": "766e5b6b",
   "metadata": {
    "papermill": {
     "duration": 0.006557,
     "end_time": "2025-07-26T05:31:23.809294",
     "exception": false,
     "start_time": "2025-07-26T05:31:23.802737",
     "status": "completed"
    },
    "tags": []
   },
   "outputs": [],
   "source": []
  },
  {
   "cell_type": "code",
   "execution_count": 17,
   "id": "3129fc9b",
   "metadata": {
    "execution": {
     "iopub.execute_input": "2025-07-26T05:31:23.823585Z",
     "iopub.status.busy": "2025-07-26T05:31:23.823210Z",
     "iopub.status.idle": "2025-07-26T05:31:43.801035Z",
     "shell.execute_reply": "2025-07-26T05:31:43.799851Z"
    },
    "papermill": {
     "duration": 19.987259,
     "end_time": "2025-07-26T05:31:43.802960",
     "exception": false,
     "start_time": "2025-07-26T05:31:23.815701",
     "status": "completed"
    },
    "tags": []
   },
   "outputs": [
    {
     "name": "stderr",
     "output_type": "stream",
     "text": [
      "2025-07-26 05:31:26.279904: E external/local_xla/xla/stream_executor/cuda/cuda_fft.cc:477] Unable to register cuFFT factory: Attempting to register factory for plugin cuFFT when one has already been registered\n",
      "WARNING: All log messages before absl::InitializeLog() is called are written to STDERR\n",
      "E0000 00:00:1753507886.571706      13 cuda_dnn.cc:8310] Unable to register cuDNN factory: Attempting to register factory for plugin cuDNN when one has already been registered\n",
      "E0000 00:00:1753507886.673631      13 cuda_blas.cc:1418] Unable to register cuBLAS factory: Attempting to register factory for plugin cuBLAS when one has already been registered\n"
     ]
    }
   ],
   "source": [
    "import tensorflow\n",
    "from tensorflow import keras\n",
    "from tensorflow.keras import Sequential\n",
    "from tensorflow.keras.layers import Input,Dense"
   ]
  },
  {
   "cell_type": "code",
   "execution_count": 18,
   "id": "be530e9d",
   "metadata": {
    "execution": {
     "iopub.execute_input": "2025-07-26T05:31:43.817611Z",
     "iopub.status.busy": "2025-07-26T05:31:43.816960Z",
     "iopub.status.idle": "2025-07-26T05:31:43.933629Z",
     "shell.execute_reply": "2025-07-26T05:31:43.932249Z"
    },
    "papermill": {
     "duration": 0.125885,
     "end_time": "2025-07-26T05:31:43.935495",
     "exception": false,
     "start_time": "2025-07-26T05:31:43.809610",
     "status": "completed"
    },
    "tags": []
   },
   "outputs": [
    {
     "name": "stderr",
     "output_type": "stream",
     "text": [
      "2025-07-26 05:31:43.830008: E external/local_xla/xla/stream_executor/cuda/cuda_driver.cc:152] failed call to cuInit: INTERNAL: CUDA error: Failed call to cuInit: UNKNOWN ERROR (303)\n"
     ]
    }
   ],
   "source": [
    "model = Sequential()\n",
    "\n",
    "model.add(Input(shape=(11,)))  # Input layer with 11 features\n",
    "\n",
    "# Hidden layers\n",
    "model.add(Dense(18, activation='relu'))\n",
    "model.add(Dense(18, activation='relu'))\n",
    "model.add(Dense(18, activation='relu'))\n",
    "\n",
    "# Output layer\n",
    "model.add(Dense(1, activation='sigmoid'))"
   ]
  },
  {
   "cell_type": "code",
   "execution_count": 19,
   "id": "9f36b303",
   "metadata": {
    "execution": {
     "iopub.execute_input": "2025-07-26T05:31:43.950457Z",
     "iopub.status.busy": "2025-07-26T05:31:43.950125Z",
     "iopub.status.idle": "2025-07-26T05:31:43.970115Z",
     "shell.execute_reply": "2025-07-26T05:31:43.968789Z"
    },
    "papermill": {
     "duration": 0.029675,
     "end_time": "2025-07-26T05:31:43.971932",
     "exception": false,
     "start_time": "2025-07-26T05:31:43.942257",
     "status": "completed"
    },
    "tags": []
   },
   "outputs": [
    {
     "data": {
      "text/html": [
       "<pre style=\"white-space:pre;overflow-x:auto;line-height:normal;font-family:Menlo,'DejaVu Sans Mono',consolas,'Courier New',monospace\"><span style=\"font-weight: bold\">Model: \"sequential\"</span>\n",
       "</pre>\n"
      ],
      "text/plain": [
       "\u001b[1mModel: \"sequential\"\u001b[0m\n"
      ]
     },
     "metadata": {},
     "output_type": "display_data"
    },
    {
     "data": {
      "text/html": [
       "<pre style=\"white-space:pre;overflow-x:auto;line-height:normal;font-family:Menlo,'DejaVu Sans Mono',consolas,'Courier New',monospace\">┏━━━━━━━━━━━━━━━━━━━━━━━━━━━━━━━━━┳━━━━━━━━━━━━━━━━━━━━━━━━┳━━━━━━━━━━━━━━━┓\n",
       "┃<span style=\"font-weight: bold\"> Layer (type)                    </span>┃<span style=\"font-weight: bold\"> Output Shape           </span>┃<span style=\"font-weight: bold\">       Param # </span>┃\n",
       "┡━━━━━━━━━━━━━━━━━━━━━━━━━━━━━━━━━╇━━━━━━━━━━━━━━━━━━━━━━━━╇━━━━━━━━━━━━━━━┩\n",
       "│ dense (<span style=\"color: #0087ff; text-decoration-color: #0087ff\">Dense</span>)                   │ (<span style=\"color: #00d7ff; text-decoration-color: #00d7ff\">None</span>, <span style=\"color: #00af00; text-decoration-color: #00af00\">18</span>)             │           <span style=\"color: #00af00; text-decoration-color: #00af00\">216</span> │\n",
       "├─────────────────────────────────┼────────────────────────┼───────────────┤\n",
       "│ dense_1 (<span style=\"color: #0087ff; text-decoration-color: #0087ff\">Dense</span>)                 │ (<span style=\"color: #00d7ff; text-decoration-color: #00d7ff\">None</span>, <span style=\"color: #00af00; text-decoration-color: #00af00\">18</span>)             │           <span style=\"color: #00af00; text-decoration-color: #00af00\">342</span> │\n",
       "├─────────────────────────────────┼────────────────────────┼───────────────┤\n",
       "│ dense_2 (<span style=\"color: #0087ff; text-decoration-color: #0087ff\">Dense</span>)                 │ (<span style=\"color: #00d7ff; text-decoration-color: #00d7ff\">None</span>, <span style=\"color: #00af00; text-decoration-color: #00af00\">18</span>)             │           <span style=\"color: #00af00; text-decoration-color: #00af00\">342</span> │\n",
       "├─────────────────────────────────┼────────────────────────┼───────────────┤\n",
       "│ dense_3 (<span style=\"color: #0087ff; text-decoration-color: #0087ff\">Dense</span>)                 │ (<span style=\"color: #00d7ff; text-decoration-color: #00d7ff\">None</span>, <span style=\"color: #00af00; text-decoration-color: #00af00\">1</span>)              │            <span style=\"color: #00af00; text-decoration-color: #00af00\">19</span> │\n",
       "└─────────────────────────────────┴────────────────────────┴───────────────┘\n",
       "</pre>\n"
      ],
      "text/plain": [
       "┏━━━━━━━━━━━━━━━━━━━━━━━━━━━━━━━━━┳━━━━━━━━━━━━━━━━━━━━━━━━┳━━━━━━━━━━━━━━━┓\n",
       "┃\u001b[1m \u001b[0m\u001b[1mLayer (type)                   \u001b[0m\u001b[1m \u001b[0m┃\u001b[1m \u001b[0m\u001b[1mOutput Shape          \u001b[0m\u001b[1m \u001b[0m┃\u001b[1m \u001b[0m\u001b[1m      Param #\u001b[0m\u001b[1m \u001b[0m┃\n",
       "┡━━━━━━━━━━━━━━━━━━━━━━━━━━━━━━━━━╇━━━━━━━━━━━━━━━━━━━━━━━━╇━━━━━━━━━━━━━━━┩\n",
       "│ dense (\u001b[38;5;33mDense\u001b[0m)                   │ (\u001b[38;5;45mNone\u001b[0m, \u001b[38;5;34m18\u001b[0m)             │           \u001b[38;5;34m216\u001b[0m │\n",
       "├─────────────────────────────────┼────────────────────────┼───────────────┤\n",
       "│ dense_1 (\u001b[38;5;33mDense\u001b[0m)                 │ (\u001b[38;5;45mNone\u001b[0m, \u001b[38;5;34m18\u001b[0m)             │           \u001b[38;5;34m342\u001b[0m │\n",
       "├─────────────────────────────────┼────────────────────────┼───────────────┤\n",
       "│ dense_2 (\u001b[38;5;33mDense\u001b[0m)                 │ (\u001b[38;5;45mNone\u001b[0m, \u001b[38;5;34m18\u001b[0m)             │           \u001b[38;5;34m342\u001b[0m │\n",
       "├─────────────────────────────────┼────────────────────────┼───────────────┤\n",
       "│ dense_3 (\u001b[38;5;33mDense\u001b[0m)                 │ (\u001b[38;5;45mNone\u001b[0m, \u001b[38;5;34m1\u001b[0m)              │            \u001b[38;5;34m19\u001b[0m │\n",
       "└─────────────────────────────────┴────────────────────────┴───────────────┘\n"
      ]
     },
     "metadata": {},
     "output_type": "display_data"
    },
    {
     "data": {
      "text/html": [
       "<pre style=\"white-space:pre;overflow-x:auto;line-height:normal;font-family:Menlo,'DejaVu Sans Mono',consolas,'Courier New',monospace\"><span style=\"font-weight: bold\"> Total params: </span><span style=\"color: #00af00; text-decoration-color: #00af00\">919</span> (3.59 KB)\n",
       "</pre>\n"
      ],
      "text/plain": [
       "\u001b[1m Total params: \u001b[0m\u001b[38;5;34m919\u001b[0m (3.59 KB)\n"
      ]
     },
     "metadata": {},
     "output_type": "display_data"
    },
    {
     "data": {
      "text/html": [
       "<pre style=\"white-space:pre;overflow-x:auto;line-height:normal;font-family:Menlo,'DejaVu Sans Mono',consolas,'Courier New',monospace\"><span style=\"font-weight: bold\"> Trainable params: </span><span style=\"color: #00af00; text-decoration-color: #00af00\">919</span> (3.59 KB)\n",
       "</pre>\n"
      ],
      "text/plain": [
       "\u001b[1m Trainable params: \u001b[0m\u001b[38;5;34m919\u001b[0m (3.59 KB)\n"
      ]
     },
     "metadata": {},
     "output_type": "display_data"
    },
    {
     "data": {
      "text/html": [
       "<pre style=\"white-space:pre;overflow-x:auto;line-height:normal;font-family:Menlo,'DejaVu Sans Mono',consolas,'Courier New',monospace\"><span style=\"font-weight: bold\"> Non-trainable params: </span><span style=\"color: #00af00; text-decoration-color: #00af00\">0</span> (0.00 B)\n",
       "</pre>\n"
      ],
      "text/plain": [
       "\u001b[1m Non-trainable params: \u001b[0m\u001b[38;5;34m0\u001b[0m (0.00 B)\n"
      ]
     },
     "metadata": {},
     "output_type": "display_data"
    }
   ],
   "source": [
    "model.summary()"
   ]
  },
  {
   "cell_type": "code",
   "execution_count": 20,
   "id": "0e330e55",
   "metadata": {
    "execution": {
     "iopub.execute_input": "2025-07-26T05:31:43.990861Z",
     "iopub.status.busy": "2025-07-26T05:31:43.990422Z",
     "iopub.status.idle": "2025-07-26T05:31:44.011526Z",
     "shell.execute_reply": "2025-07-26T05:31:44.009950Z"
    },
    "papermill": {
     "duration": 0.033609,
     "end_time": "2025-07-26T05:31:44.013791",
     "exception": false,
     "start_time": "2025-07-26T05:31:43.980182",
     "status": "completed"
    },
    "tags": []
   },
   "outputs": [],
   "source": [
    "model.compile(loss='binary_crossentropy',optimizer='Adam',metrics=['accuracy'])"
   ]
  },
  {
   "cell_type": "code",
   "execution_count": 21,
   "id": "aab7eb8b",
   "metadata": {
    "execution": {
     "iopub.execute_input": "2025-07-26T05:31:44.032281Z",
     "iopub.status.busy": "2025-07-26T05:31:44.030759Z",
     "iopub.status.idle": "2025-07-26T05:32:58.849667Z",
     "shell.execute_reply": "2025-07-26T05:32:58.848542Z"
    },
    "papermill": {
     "duration": 74.830249,
     "end_time": "2025-07-26T05:32:58.851899",
     "exception": false,
     "start_time": "2025-07-26T05:31:44.021650",
     "status": "completed"
    },
    "tags": []
   },
   "outputs": [
    {
     "name": "stdout",
     "output_type": "stream",
     "text": [
      "Epoch 1/100\n",
      "\u001b[1m200/200\u001b[0m \u001b[32m━━━━━━━━━━━━━━━━━━━━\u001b[0m\u001b[37m\u001b[0m \u001b[1m4s\u001b[0m 5ms/step - accuracy: 0.6427 - loss: 0.6041 - val_accuracy: 0.7981 - val_loss: 0.4515\n",
      "Epoch 2/100\n",
      "\u001b[1m200/200\u001b[0m \u001b[32m━━━━━━━━━━━━━━━━━━━━\u001b[0m\u001b[37m\u001b[0m \u001b[1m1s\u001b[0m 4ms/step - accuracy: 0.8014 - loss: 0.4465 - val_accuracy: 0.8119 - val_loss: 0.4135\n",
      "Epoch 3/100\n",
      "\u001b[1m200/200\u001b[0m \u001b[32m━━━━━━━━━━━━━━━━━━━━\u001b[0m\u001b[37m\u001b[0m \u001b[1m1s\u001b[0m 4ms/step - accuracy: 0.8327 - loss: 0.3982 - val_accuracy: 0.8413 - val_loss: 0.3743\n",
      "Epoch 4/100\n",
      "\u001b[1m200/200\u001b[0m \u001b[32m━━━━━━━━━━━━━━━━━━━━\u001b[0m\u001b[37m\u001b[0m \u001b[1m1s\u001b[0m 4ms/step - accuracy: 0.8527 - loss: 0.3692 - val_accuracy: 0.8481 - val_loss: 0.3549\n",
      "Epoch 5/100\n",
      "\u001b[1m200/200\u001b[0m \u001b[32m━━━━━━━━━━━━━━━━━━━━\u001b[0m\u001b[37m\u001b[0m \u001b[1m1s\u001b[0m 3ms/step - accuracy: 0.8637 - loss: 0.3451 - val_accuracy: 0.8531 - val_loss: 0.3465\n",
      "Epoch 6/100\n",
      "\u001b[1m200/200\u001b[0m \u001b[32m━━━━━━━━━━━━━━━━━━━━\u001b[0m\u001b[37m\u001b[0m \u001b[1m1s\u001b[0m 3ms/step - accuracy: 0.8543 - loss: 0.3530 - val_accuracy: 0.8606 - val_loss: 0.3412\n",
      "Epoch 7/100\n",
      "\u001b[1m200/200\u001b[0m \u001b[32m━━━━━━━━━━━━━━━━━━━━\u001b[0m\u001b[37m\u001b[0m \u001b[1m1s\u001b[0m 3ms/step - accuracy: 0.8657 - loss: 0.3344 - val_accuracy: 0.8569 - val_loss: 0.3406\n",
      "Epoch 8/100\n",
      "\u001b[1m200/200\u001b[0m \u001b[32m━━━━━━━━━━━━━━━━━━━━\u001b[0m\u001b[37m\u001b[0m \u001b[1m1s\u001b[0m 3ms/step - accuracy: 0.8679 - loss: 0.3412 - val_accuracy: 0.8581 - val_loss: 0.3432\n",
      "Epoch 9/100\n",
      "\u001b[1m200/200\u001b[0m \u001b[32m━━━━━━━━━━━━━━━━━━━━\u001b[0m\u001b[37m\u001b[0m \u001b[1m1s\u001b[0m 3ms/step - accuracy: 0.8654 - loss: 0.3362 - val_accuracy: 0.8556 - val_loss: 0.3398\n",
      "Epoch 10/100\n",
      "\u001b[1m200/200\u001b[0m \u001b[32m━━━━━━━━━━━━━━━━━━━━\u001b[0m\u001b[37m\u001b[0m \u001b[1m1s\u001b[0m 3ms/step - accuracy: 0.8623 - loss: 0.3319 - val_accuracy: 0.8550 - val_loss: 0.3461\n",
      "Epoch 11/100\n",
      "\u001b[1m200/200\u001b[0m \u001b[32m━━━━━━━━━━━━━━━━━━━━\u001b[0m\u001b[37m\u001b[0m \u001b[1m1s\u001b[0m 3ms/step - accuracy: 0.8628 - loss: 0.3381 - val_accuracy: 0.8569 - val_loss: 0.3422\n",
      "Epoch 12/100\n",
      "\u001b[1m200/200\u001b[0m \u001b[32m━━━━━━━━━━━━━━━━━━━━\u001b[0m\u001b[37m\u001b[0m \u001b[1m1s\u001b[0m 4ms/step - accuracy: 0.8650 - loss: 0.3329 - val_accuracy: 0.8544 - val_loss: 0.3449\n",
      "Epoch 13/100\n",
      "\u001b[1m200/200\u001b[0m \u001b[32m━━━━━━━━━━━━━━━━━━━━\u001b[0m\u001b[37m\u001b[0m \u001b[1m1s\u001b[0m 3ms/step - accuracy: 0.8552 - loss: 0.3438 - val_accuracy: 0.8537 - val_loss: 0.3412\n",
      "Epoch 14/100\n",
      "\u001b[1m200/200\u001b[0m \u001b[32m━━━━━━━━━━━━━━━━━━━━\u001b[0m\u001b[37m\u001b[0m \u001b[1m1s\u001b[0m 3ms/step - accuracy: 0.8659 - loss: 0.3251 - val_accuracy: 0.8531 - val_loss: 0.3442\n",
      "Epoch 15/100\n",
      "\u001b[1m200/200\u001b[0m \u001b[32m━━━━━━━━━━━━━━━━━━━━\u001b[0m\u001b[37m\u001b[0m \u001b[1m1s\u001b[0m 3ms/step - accuracy: 0.8693 - loss: 0.3255 - val_accuracy: 0.8556 - val_loss: 0.3414\n",
      "Epoch 16/100\n",
      "\u001b[1m200/200\u001b[0m \u001b[32m━━━━━━━━━━━━━━━━━━━━\u001b[0m\u001b[37m\u001b[0m \u001b[1m1s\u001b[0m 3ms/step - accuracy: 0.8693 - loss: 0.3245 - val_accuracy: 0.8556 - val_loss: 0.3421\n",
      "Epoch 17/100\n",
      "\u001b[1m200/200\u001b[0m \u001b[32m━━━━━━━━━━━━━━━━━━━━\u001b[0m\u001b[37m\u001b[0m \u001b[1m1s\u001b[0m 3ms/step - accuracy: 0.8684 - loss: 0.3225 - val_accuracy: 0.8569 - val_loss: 0.3425\n",
      "Epoch 18/100\n",
      "\u001b[1m200/200\u001b[0m \u001b[32m━━━━━━━━━━━━━━━━━━━━\u001b[0m\u001b[37m\u001b[0m \u001b[1m1s\u001b[0m 4ms/step - accuracy: 0.8697 - loss: 0.3183 - val_accuracy: 0.8575 - val_loss: 0.3435\n",
      "Epoch 19/100\n",
      "\u001b[1m200/200\u001b[0m \u001b[32m━━━━━━━━━━━━━━━━━━━━\u001b[0m\u001b[37m\u001b[0m \u001b[1m1s\u001b[0m 3ms/step - accuracy: 0.8704 - loss: 0.3181 - val_accuracy: 0.8587 - val_loss: 0.3425\n",
      "Epoch 20/100\n",
      "\u001b[1m200/200\u001b[0m \u001b[32m━━━━━━━━━━━━━━━━━━━━\u001b[0m\u001b[37m\u001b[0m \u001b[1m1s\u001b[0m 3ms/step - accuracy: 0.8657 - loss: 0.3232 - val_accuracy: 0.8619 - val_loss: 0.3449\n",
      "Epoch 21/100\n",
      "\u001b[1m200/200\u001b[0m \u001b[32m━━━━━━━━━━━━━━━━━━━━\u001b[0m\u001b[37m\u001b[0m \u001b[1m1s\u001b[0m 4ms/step - accuracy: 0.8644 - loss: 0.3299 - val_accuracy: 0.8606 - val_loss: 0.3478\n",
      "Epoch 22/100\n",
      "\u001b[1m200/200\u001b[0m \u001b[32m━━━━━━━━━━━━━━━━━━━━\u001b[0m\u001b[37m\u001b[0m \u001b[1m1s\u001b[0m 3ms/step - accuracy: 0.8714 - loss: 0.3154 - val_accuracy: 0.8562 - val_loss: 0.3434\n",
      "Epoch 23/100\n",
      "\u001b[1m200/200\u001b[0m \u001b[32m━━━━━━━━━━━━━━━━━━━━\u001b[0m\u001b[37m\u001b[0m \u001b[1m1s\u001b[0m 3ms/step - accuracy: 0.8632 - loss: 0.3323 - val_accuracy: 0.8512 - val_loss: 0.3441\n",
      "Epoch 24/100\n",
      "\u001b[1m200/200\u001b[0m \u001b[32m━━━━━━━━━━━━━━━━━━━━\u001b[0m\u001b[37m\u001b[0m \u001b[1m1s\u001b[0m 3ms/step - accuracy: 0.8649 - loss: 0.3244 - val_accuracy: 0.8569 - val_loss: 0.3498\n",
      "Epoch 25/100\n",
      "\u001b[1m200/200\u001b[0m \u001b[32m━━━━━━━━━━━━━━━━━━━━\u001b[0m\u001b[37m\u001b[0m \u001b[1m1s\u001b[0m 3ms/step - accuracy: 0.8673 - loss: 0.3161 - val_accuracy: 0.8562 - val_loss: 0.3456\n",
      "Epoch 26/100\n",
      "\u001b[1m200/200\u001b[0m \u001b[32m━━━━━━━━━━━━━━━━━━━━\u001b[0m\u001b[37m\u001b[0m \u001b[1m1s\u001b[0m 3ms/step - accuracy: 0.8682 - loss: 0.3129 - val_accuracy: 0.8519 - val_loss: 0.3462\n",
      "Epoch 27/100\n",
      "\u001b[1m200/200\u001b[0m \u001b[32m━━━━━━━━━━━━━━━━━━━━\u001b[0m\u001b[37m\u001b[0m \u001b[1m1s\u001b[0m 3ms/step - accuracy: 0.8601 - loss: 0.3338 - val_accuracy: 0.8575 - val_loss: 0.3459\n",
      "Epoch 28/100\n",
      "\u001b[1m200/200\u001b[0m \u001b[32m━━━━━━━━━━━━━━━━━━━━\u001b[0m\u001b[37m\u001b[0m \u001b[1m1s\u001b[0m 4ms/step - accuracy: 0.8707 - loss: 0.3067 - val_accuracy: 0.8575 - val_loss: 0.3455\n",
      "Epoch 29/100\n",
      "\u001b[1m200/200\u001b[0m \u001b[32m━━━━━━━━━━━━━━━━━━━━\u001b[0m\u001b[37m\u001b[0m \u001b[1m1s\u001b[0m 3ms/step - accuracy: 0.8622 - loss: 0.3265 - val_accuracy: 0.8556 - val_loss: 0.3466\n",
      "Epoch 30/100\n",
      "\u001b[1m200/200\u001b[0m \u001b[32m━━━━━━━━━━━━━━━━━━━━\u001b[0m\u001b[37m\u001b[0m \u001b[1m1s\u001b[0m 3ms/step - accuracy: 0.8767 - loss: 0.3052 - val_accuracy: 0.8575 - val_loss: 0.3434\n",
      "Epoch 31/100\n",
      "\u001b[1m200/200\u001b[0m \u001b[32m━━━━━━━━━━━━━━━━━━━━\u001b[0m\u001b[37m\u001b[0m \u001b[1m1s\u001b[0m 3ms/step - accuracy: 0.8614 - loss: 0.3242 - val_accuracy: 0.8587 - val_loss: 0.3476\n",
      "Epoch 32/100\n",
      "\u001b[1m200/200\u001b[0m \u001b[32m━━━━━━━━━━━━━━━━━━━━\u001b[0m\u001b[37m\u001b[0m \u001b[1m1s\u001b[0m 4ms/step - accuracy: 0.8685 - loss: 0.3176 - val_accuracy: 0.8581 - val_loss: 0.3469\n",
      "Epoch 33/100\n",
      "\u001b[1m200/200\u001b[0m \u001b[32m━━━━━━━━━━━━━━━━━━━━\u001b[0m\u001b[37m\u001b[0m \u001b[1m1s\u001b[0m 4ms/step - accuracy: 0.8789 - loss: 0.2961 - val_accuracy: 0.8537 - val_loss: 0.3478\n",
      "Epoch 34/100\n",
      "\u001b[1m200/200\u001b[0m \u001b[32m━━━━━━━━━━━━━━━━━━━━\u001b[0m\u001b[37m\u001b[0m \u001b[1m1s\u001b[0m 3ms/step - accuracy: 0.8748 - loss: 0.3111 - val_accuracy: 0.8531 - val_loss: 0.3500\n",
      "Epoch 35/100\n",
      "\u001b[1m200/200\u001b[0m \u001b[32m━━━━━━━━━━━━━━━━━━━━\u001b[0m\u001b[37m\u001b[0m \u001b[1m1s\u001b[0m 3ms/step - accuracy: 0.8680 - loss: 0.3195 - val_accuracy: 0.8556 - val_loss: 0.3477\n",
      "Epoch 36/100\n",
      "\u001b[1m200/200\u001b[0m \u001b[32m━━━━━━━━━━━━━━━━━━━━\u001b[0m\u001b[37m\u001b[0m \u001b[1m1s\u001b[0m 3ms/step - accuracy: 0.8673 - loss: 0.3141 - val_accuracy: 0.8575 - val_loss: 0.3513\n",
      "Epoch 37/100\n",
      "\u001b[1m200/200\u001b[0m \u001b[32m━━━━━━━━━━━━━━━━━━━━\u001b[0m\u001b[37m\u001b[0m \u001b[1m1s\u001b[0m 3ms/step - accuracy: 0.8709 - loss: 0.3021 - val_accuracy: 0.8569 - val_loss: 0.3489\n",
      "Epoch 38/100\n",
      "\u001b[1m200/200\u001b[0m \u001b[32m━━━━━━━━━━━━━━━━━━━━\u001b[0m\u001b[37m\u001b[0m \u001b[1m1s\u001b[0m 4ms/step - accuracy: 0.8731 - loss: 0.3104 - val_accuracy: 0.8500 - val_loss: 0.3505\n",
      "Epoch 39/100\n",
      "\u001b[1m200/200\u001b[0m \u001b[32m━━━━━━━━━━━━━━━━━━━━\u001b[0m\u001b[37m\u001b[0m \u001b[1m1s\u001b[0m 3ms/step - accuracy: 0.8659 - loss: 0.3221 - val_accuracy: 0.8544 - val_loss: 0.3543\n",
      "Epoch 40/100\n",
      "\u001b[1m200/200\u001b[0m \u001b[32m━━━━━━━━━━━━━━━━━━━━\u001b[0m\u001b[37m\u001b[0m \u001b[1m1s\u001b[0m 3ms/step - accuracy: 0.8752 - loss: 0.3054 - val_accuracy: 0.8562 - val_loss: 0.3502\n",
      "Epoch 41/100\n",
      "\u001b[1m200/200\u001b[0m \u001b[32m━━━━━━━━━━━━━━━━━━━━\u001b[0m\u001b[37m\u001b[0m \u001b[1m1s\u001b[0m 3ms/step - accuracy: 0.8667 - loss: 0.3223 - val_accuracy: 0.8575 - val_loss: 0.3510\n",
      "Epoch 42/100\n",
      "\u001b[1m200/200\u001b[0m \u001b[32m━━━━━━━━━━━━━━━━━━━━\u001b[0m\u001b[37m\u001b[0m \u001b[1m1s\u001b[0m 3ms/step - accuracy: 0.8730 - loss: 0.3052 - val_accuracy: 0.8550 - val_loss: 0.3516\n",
      "Epoch 43/100\n",
      "\u001b[1m200/200\u001b[0m \u001b[32m━━━━━━━━━━━━━━━━━━━━\u001b[0m\u001b[37m\u001b[0m \u001b[1m1s\u001b[0m 3ms/step - accuracy: 0.8753 - loss: 0.3052 - val_accuracy: 0.8537 - val_loss: 0.3507\n",
      "Epoch 44/100\n",
      "\u001b[1m200/200\u001b[0m \u001b[32m━━━━━━━━━━━━━━━━━━━━\u001b[0m\u001b[37m\u001b[0m \u001b[1m1s\u001b[0m 3ms/step - accuracy: 0.8756 - loss: 0.3035 - val_accuracy: 0.8525 - val_loss: 0.3535\n",
      "Epoch 45/100\n",
      "\u001b[1m200/200\u001b[0m \u001b[32m━━━━━━━━━━━━━━━━━━━━\u001b[0m\u001b[37m\u001b[0m \u001b[1m1s\u001b[0m 4ms/step - accuracy: 0.8813 - loss: 0.2911 - val_accuracy: 0.8519 - val_loss: 0.3526\n",
      "Epoch 46/100\n",
      "\u001b[1m200/200\u001b[0m \u001b[32m━━━━━━━━━━━━━━━━━━━━\u001b[0m\u001b[37m\u001b[0m \u001b[1m1s\u001b[0m 4ms/step - accuracy: 0.8763 - loss: 0.2952 - val_accuracy: 0.8537 - val_loss: 0.3568\n",
      "Epoch 47/100\n",
      "\u001b[1m200/200\u001b[0m \u001b[32m━━━━━━━━━━━━━━━━━━━━\u001b[0m\u001b[37m\u001b[0m \u001b[1m1s\u001b[0m 4ms/step - accuracy: 0.8708 - loss: 0.3023 - val_accuracy: 0.8550 - val_loss: 0.3545\n",
      "Epoch 48/100\n",
      "\u001b[1m200/200\u001b[0m \u001b[32m━━━━━━━━━━━━━━━━━━━━\u001b[0m\u001b[37m\u001b[0m \u001b[1m1s\u001b[0m 4ms/step - accuracy: 0.8706 - loss: 0.3096 - val_accuracy: 0.8550 - val_loss: 0.3551\n",
      "Epoch 49/100\n",
      "\u001b[1m200/200\u001b[0m \u001b[32m━━━━━━━━━━━━━━━━━━━━\u001b[0m\u001b[37m\u001b[0m \u001b[1m1s\u001b[0m 3ms/step - accuracy: 0.8756 - loss: 0.3032 - val_accuracy: 0.8569 - val_loss: 0.3588\n",
      "Epoch 50/100\n",
      "\u001b[1m200/200\u001b[0m \u001b[32m━━━━━━━━━━━━━━━━━━━━\u001b[0m\u001b[37m\u001b[0m \u001b[1m1s\u001b[0m 3ms/step - accuracy: 0.8765 - loss: 0.3038 - val_accuracy: 0.8519 - val_loss: 0.3536\n",
      "Epoch 51/100\n",
      "\u001b[1m200/200\u001b[0m \u001b[32m━━━━━━━━━━━━━━━━━━━━\u001b[0m\u001b[37m\u001b[0m \u001b[1m1s\u001b[0m 3ms/step - accuracy: 0.8713 - loss: 0.3077 - val_accuracy: 0.8556 - val_loss: 0.3545\n",
      "Epoch 52/100\n",
      "\u001b[1m200/200\u001b[0m \u001b[32m━━━━━━━━━━━━━━━━━━━━\u001b[0m\u001b[37m\u001b[0m \u001b[1m1s\u001b[0m 3ms/step - accuracy: 0.8875 - loss: 0.2873 - val_accuracy: 0.8531 - val_loss: 0.3537\n",
      "Epoch 53/100\n",
      "\u001b[1m200/200\u001b[0m \u001b[32m━━━━━━━━━━━━━━━━━━━━\u001b[0m\u001b[37m\u001b[0m \u001b[1m1s\u001b[0m 3ms/step - accuracy: 0.8699 - loss: 0.3102 - val_accuracy: 0.8544 - val_loss: 0.3527\n",
      "Epoch 54/100\n",
      "\u001b[1m200/200\u001b[0m \u001b[32m━━━━━━━━━━━━━━━━━━━━\u001b[0m\u001b[37m\u001b[0m \u001b[1m1s\u001b[0m 3ms/step - accuracy: 0.8843 - loss: 0.2916 - val_accuracy: 0.8537 - val_loss: 0.3537\n",
      "Epoch 55/100\n",
      "\u001b[1m200/200\u001b[0m \u001b[32m━━━━━━━━━━━━━━━━━━━━\u001b[0m\u001b[37m\u001b[0m \u001b[1m1s\u001b[0m 3ms/step - accuracy: 0.8777 - loss: 0.2967 - val_accuracy: 0.8556 - val_loss: 0.3579\n",
      "Epoch 56/100\n",
      "\u001b[1m200/200\u001b[0m \u001b[32m━━━━━━━━━━━━━━━━━━━━\u001b[0m\u001b[37m\u001b[0m \u001b[1m1s\u001b[0m 3ms/step - accuracy: 0.8728 - loss: 0.3080 - val_accuracy: 0.8550 - val_loss: 0.3629\n",
      "Epoch 57/100\n",
      "\u001b[1m200/200\u001b[0m \u001b[32m━━━━━━━━━━━━━━━━━━━━\u001b[0m\u001b[37m\u001b[0m \u001b[1m1s\u001b[0m 3ms/step - accuracy: 0.8784 - loss: 0.3014 - val_accuracy: 0.8562 - val_loss: 0.3560\n",
      "Epoch 58/100\n",
      "\u001b[1m200/200\u001b[0m \u001b[32m━━━━━━━━━━━━━━━━━━━━\u001b[0m\u001b[37m\u001b[0m \u001b[1m1s\u001b[0m 3ms/step - accuracy: 0.8789 - loss: 0.2922 - val_accuracy: 0.8556 - val_loss: 0.3568\n",
      "Epoch 59/100\n",
      "\u001b[1m200/200\u001b[0m \u001b[32m━━━━━━━━━━━━━━━━━━━━\u001b[0m\u001b[37m\u001b[0m \u001b[1m1s\u001b[0m 3ms/step - accuracy: 0.8764 - loss: 0.3049 - val_accuracy: 0.8562 - val_loss: 0.3542\n",
      "Epoch 60/100\n",
      "\u001b[1m200/200\u001b[0m \u001b[32m━━━━━━━━━━━━━━━━━━━━\u001b[0m\u001b[37m\u001b[0m \u001b[1m1s\u001b[0m 3ms/step - accuracy: 0.8774 - loss: 0.2980 - val_accuracy: 0.8537 - val_loss: 0.3537\n",
      "Epoch 61/100\n",
      "\u001b[1m200/200\u001b[0m \u001b[32m━━━━━━━━━━━━━━━━━━━━\u001b[0m\u001b[37m\u001b[0m \u001b[1m1s\u001b[0m 3ms/step - accuracy: 0.8772 - loss: 0.2917 - val_accuracy: 0.8494 - val_loss: 0.3542\n",
      "Epoch 62/100\n",
      "\u001b[1m200/200\u001b[0m \u001b[32m━━━━━━━━━━━━━━━━━━━━\u001b[0m\u001b[37m\u001b[0m \u001b[1m1s\u001b[0m 3ms/step - accuracy: 0.8823 - loss: 0.2899 - val_accuracy: 0.8550 - val_loss: 0.3566\n",
      "Epoch 63/100\n",
      "\u001b[1m200/200\u001b[0m \u001b[32m━━━━━━━━━━━━━━━━━━━━\u001b[0m\u001b[37m\u001b[0m \u001b[1m1s\u001b[0m 3ms/step - accuracy: 0.8745 - loss: 0.2994 - val_accuracy: 0.8562 - val_loss: 0.3610\n",
      "Epoch 64/100\n",
      "\u001b[1m200/200\u001b[0m \u001b[32m━━━━━━━━━━━━━━━━━━━━\u001b[0m\u001b[37m\u001b[0m \u001b[1m1s\u001b[0m 3ms/step - accuracy: 0.8815 - loss: 0.2943 - val_accuracy: 0.8550 - val_loss: 0.3596\n",
      "Epoch 65/100\n",
      "\u001b[1m200/200\u001b[0m \u001b[32m━━━━━━━━━━━━━━━━━━━━\u001b[0m\u001b[37m\u001b[0m \u001b[1m1s\u001b[0m 3ms/step - accuracy: 0.8846 - loss: 0.2897 - val_accuracy: 0.8562 - val_loss: 0.3576\n",
      "Epoch 66/100\n",
      "\u001b[1m200/200\u001b[0m \u001b[32m━━━━━━━━━━━━━━━━━━━━\u001b[0m\u001b[37m\u001b[0m \u001b[1m1s\u001b[0m 3ms/step - accuracy: 0.8687 - loss: 0.3056 - val_accuracy: 0.8512 - val_loss: 0.3559\n",
      "Epoch 67/100\n",
      "\u001b[1m200/200\u001b[0m \u001b[32m━━━━━━━━━━━━━━━━━━━━\u001b[0m\u001b[37m\u001b[0m \u001b[1m1s\u001b[0m 3ms/step - accuracy: 0.8747 - loss: 0.3038 - val_accuracy: 0.8556 - val_loss: 0.3546\n",
      "Epoch 68/100\n",
      "\u001b[1m200/200\u001b[0m \u001b[32m━━━━━━━━━━━━━━━━━━━━\u001b[0m\u001b[37m\u001b[0m \u001b[1m1s\u001b[0m 3ms/step - accuracy: 0.8822 - loss: 0.2903 - val_accuracy: 0.8575 - val_loss: 0.3564\n",
      "Epoch 69/100\n",
      "\u001b[1m200/200\u001b[0m \u001b[32m━━━━━━━━━━━━━━━━━━━━\u001b[0m\u001b[37m\u001b[0m \u001b[1m1s\u001b[0m 3ms/step - accuracy: 0.8834 - loss: 0.2859 - val_accuracy: 0.8531 - val_loss: 0.3582\n",
      "Epoch 70/100\n",
      "\u001b[1m200/200\u001b[0m \u001b[32m━━━━━━━━━━━━━━━━━━━━\u001b[0m\u001b[37m\u001b[0m \u001b[1m1s\u001b[0m 3ms/step - accuracy: 0.8818 - loss: 0.2905 - val_accuracy: 0.8512 - val_loss: 0.3573\n",
      "Epoch 71/100\n",
      "\u001b[1m200/200\u001b[0m \u001b[32m━━━━━━━━━━━━━━━━━━━━\u001b[0m\u001b[37m\u001b[0m \u001b[1m1s\u001b[0m 3ms/step - accuracy: 0.8783 - loss: 0.2968 - val_accuracy: 0.8531 - val_loss: 0.3585\n",
      "Epoch 72/100\n",
      "\u001b[1m200/200\u001b[0m \u001b[32m━━━━━━━━━━━━━━━━━━━━\u001b[0m\u001b[37m\u001b[0m \u001b[1m1s\u001b[0m 3ms/step - accuracy: 0.8793 - loss: 0.2944 - val_accuracy: 0.8544 - val_loss: 0.3616\n",
      "Epoch 73/100\n",
      "\u001b[1m200/200\u001b[0m \u001b[32m━━━━━━━━━━━━━━━━━━━━\u001b[0m\u001b[37m\u001b[0m \u001b[1m1s\u001b[0m 3ms/step - accuracy: 0.8720 - loss: 0.3071 - val_accuracy: 0.8569 - val_loss: 0.3616\n",
      "Epoch 74/100\n",
      "\u001b[1m200/200\u001b[0m \u001b[32m━━━━━━━━━━━━━━━━━━━━\u001b[0m\u001b[37m\u001b[0m \u001b[1m1s\u001b[0m 3ms/step - accuracy: 0.8770 - loss: 0.2957 - val_accuracy: 0.8544 - val_loss: 0.3591\n",
      "Epoch 75/100\n",
      "\u001b[1m200/200\u001b[0m \u001b[32m━━━━━━━━━━━━━━━━━━━━\u001b[0m\u001b[37m\u001b[0m \u001b[1m1s\u001b[0m 3ms/step - accuracy: 0.8848 - loss: 0.2873 - val_accuracy: 0.8569 - val_loss: 0.3563\n",
      "Epoch 76/100\n",
      "\u001b[1m200/200\u001b[0m \u001b[32m━━━━━━━━━━━━━━━━━━━━\u001b[0m\u001b[37m\u001b[0m \u001b[1m1s\u001b[0m 3ms/step - accuracy: 0.8849 - loss: 0.2842 - val_accuracy: 0.8537 - val_loss: 0.3572\n",
      "Epoch 77/100\n",
      "\u001b[1m200/200\u001b[0m \u001b[32m━━━━━━━━━━━━━━━━━━━━\u001b[0m\u001b[37m\u001b[0m \u001b[1m1s\u001b[0m 3ms/step - accuracy: 0.8748 - loss: 0.2987 - val_accuracy: 0.8550 - val_loss: 0.3588\n",
      "Epoch 78/100\n",
      "\u001b[1m200/200\u001b[0m \u001b[32m━━━━━━━━━━━━━━━━━━━━\u001b[0m\u001b[37m\u001b[0m \u001b[1m1s\u001b[0m 3ms/step - accuracy: 0.8854 - loss: 0.2883 - val_accuracy: 0.8525 - val_loss: 0.3596\n",
      "Epoch 79/100\n",
      "\u001b[1m200/200\u001b[0m \u001b[32m━━━━━━━━━━━━━━━━━━━━\u001b[0m\u001b[37m\u001b[0m \u001b[1m1s\u001b[0m 3ms/step - accuracy: 0.8785 - loss: 0.2970 - val_accuracy: 0.8531 - val_loss: 0.3598\n",
      "Epoch 80/100\n",
      "\u001b[1m200/200\u001b[0m \u001b[32m━━━━━━━━━━━━━━━━━━━━\u001b[0m\u001b[37m\u001b[0m \u001b[1m1s\u001b[0m 4ms/step - accuracy: 0.8866 - loss: 0.2770 - val_accuracy: 0.8562 - val_loss: 0.3607\n",
      "Epoch 81/100\n",
      "\u001b[1m200/200\u001b[0m \u001b[32m━━━━━━━━━━━━━━━━━━━━\u001b[0m\u001b[37m\u001b[0m \u001b[1m1s\u001b[0m 3ms/step - accuracy: 0.8878 - loss: 0.2861 - val_accuracy: 0.8569 - val_loss: 0.3602\n",
      "Epoch 82/100\n",
      "\u001b[1m200/200\u001b[0m \u001b[32m━━━━━━━━━━━━━━━━━━━━\u001b[0m\u001b[37m\u001b[0m \u001b[1m1s\u001b[0m 3ms/step - accuracy: 0.8760 - loss: 0.2943 - val_accuracy: 0.8525 - val_loss: 0.3587\n",
      "Epoch 83/100\n",
      "\u001b[1m200/200\u001b[0m \u001b[32m━━━━━━━━━━━━━━━━━━━━\u001b[0m\u001b[37m\u001b[0m \u001b[1m1s\u001b[0m 3ms/step - accuracy: 0.8834 - loss: 0.2871 - val_accuracy: 0.8519 - val_loss: 0.3630\n",
      "Epoch 84/100\n",
      "\u001b[1m200/200\u001b[0m \u001b[32m━━━━━━━━━━━━━━━━━━━━\u001b[0m\u001b[37m\u001b[0m \u001b[1m1s\u001b[0m 3ms/step - accuracy: 0.8885 - loss: 0.2840 - val_accuracy: 0.8525 - val_loss: 0.3613\n",
      "Epoch 85/100\n",
      "\u001b[1m200/200\u001b[0m \u001b[32m━━━━━━━━━━━━━━━━━━━━\u001b[0m\u001b[37m\u001b[0m \u001b[1m1s\u001b[0m 3ms/step - accuracy: 0.8731 - loss: 0.2941 - val_accuracy: 0.8531 - val_loss: 0.3626\n",
      "Epoch 86/100\n",
      "\u001b[1m200/200\u001b[0m \u001b[32m━━━━━━━━━━━━━━━━━━━━\u001b[0m\u001b[37m\u001b[0m \u001b[1m1s\u001b[0m 3ms/step - accuracy: 0.8832 - loss: 0.2896 - val_accuracy: 0.8531 - val_loss: 0.3625\n",
      "Epoch 87/100\n",
      "\u001b[1m200/200\u001b[0m \u001b[32m━━━━━━━━━━━━━━━━━━━━\u001b[0m\u001b[37m\u001b[0m \u001b[1m1s\u001b[0m 3ms/step - accuracy: 0.8787 - loss: 0.2923 - val_accuracy: 0.8531 - val_loss: 0.3620\n",
      "Epoch 88/100\n",
      "\u001b[1m200/200\u001b[0m \u001b[32m━━━━━━━━━━━━━━━━━━━━\u001b[0m\u001b[37m\u001b[0m \u001b[1m1s\u001b[0m 4ms/step - accuracy: 0.8853 - loss: 0.2821 - val_accuracy: 0.8525 - val_loss: 0.3632\n",
      "Epoch 89/100\n",
      "\u001b[1m200/200\u001b[0m \u001b[32m━━━━━━━━━━━━━━━━━━━━\u001b[0m\u001b[37m\u001b[0m \u001b[1m1s\u001b[0m 3ms/step - accuracy: 0.8787 - loss: 0.2905 - val_accuracy: 0.8544 - val_loss: 0.3691\n",
      "Epoch 90/100\n",
      "\u001b[1m200/200\u001b[0m \u001b[32m━━━━━━━━━━━━━━━━━━━━\u001b[0m\u001b[37m\u001b[0m \u001b[1m1s\u001b[0m 3ms/step - accuracy: 0.8756 - loss: 0.2870 - val_accuracy: 0.8500 - val_loss: 0.3620\n",
      "Epoch 91/100\n",
      "\u001b[1m200/200\u001b[0m \u001b[32m━━━━━━━━━━━━━━━━━━━━\u001b[0m\u001b[37m\u001b[0m \u001b[1m1s\u001b[0m 4ms/step - accuracy: 0.8827 - loss: 0.2886 - val_accuracy: 0.8525 - val_loss: 0.3617\n",
      "Epoch 92/100\n",
      "\u001b[1m200/200\u001b[0m \u001b[32m━━━━━━━━━━━━━━━━━━━━\u001b[0m\u001b[37m\u001b[0m \u001b[1m1s\u001b[0m 3ms/step - accuracy: 0.8801 - loss: 0.2873 - val_accuracy: 0.8544 - val_loss: 0.3639\n",
      "Epoch 93/100\n",
      "\u001b[1m200/200\u001b[0m \u001b[32m━━━━━━━━━━━━━━━━━━━━\u001b[0m\u001b[37m\u001b[0m \u001b[1m1s\u001b[0m 3ms/step - accuracy: 0.8764 - loss: 0.2937 - val_accuracy: 0.8506 - val_loss: 0.3612\n",
      "Epoch 94/100\n",
      "\u001b[1m200/200\u001b[0m \u001b[32m━━━━━━━━━━━━━━━━━━━━\u001b[0m\u001b[37m\u001b[0m \u001b[1m1s\u001b[0m 3ms/step - accuracy: 0.8857 - loss: 0.2757 - val_accuracy: 0.8494 - val_loss: 0.3625\n",
      "Epoch 95/100\n",
      "\u001b[1m200/200\u001b[0m \u001b[32m━━━━━━━━━━━━━━━━━━━━\u001b[0m\u001b[37m\u001b[0m \u001b[1m1s\u001b[0m 3ms/step - accuracy: 0.8785 - loss: 0.2889 - val_accuracy: 0.8512 - val_loss: 0.3670\n",
      "Epoch 96/100\n",
      "\u001b[1m200/200\u001b[0m \u001b[32m━━━━━━━━━━━━━━━━━━━━\u001b[0m\u001b[37m\u001b[0m \u001b[1m1s\u001b[0m 4ms/step - accuracy: 0.8848 - loss: 0.2772 - val_accuracy: 0.8506 - val_loss: 0.3647\n",
      "Epoch 97/100\n",
      "\u001b[1m200/200\u001b[0m \u001b[32m━━━━━━━━━━━━━━━━━━━━\u001b[0m\u001b[37m\u001b[0m \u001b[1m1s\u001b[0m 3ms/step - accuracy: 0.8807 - loss: 0.2824 - val_accuracy: 0.8506 - val_loss: 0.3646\n",
      "Epoch 98/100\n",
      "\u001b[1m200/200\u001b[0m \u001b[32m━━━━━━━━━━━━━━━━━━━━\u001b[0m\u001b[37m\u001b[0m \u001b[1m1s\u001b[0m 3ms/step - accuracy: 0.8837 - loss: 0.2889 - val_accuracy: 0.8531 - val_loss: 0.3637\n",
      "Epoch 99/100\n",
      "\u001b[1m200/200\u001b[0m \u001b[32m━━━━━━━━━━━━━━━━━━━━\u001b[0m\u001b[37m\u001b[0m \u001b[1m1s\u001b[0m 3ms/step - accuracy: 0.8804 - loss: 0.2893 - val_accuracy: 0.8537 - val_loss: 0.3641\n",
      "Epoch 100/100\n",
      "\u001b[1m200/200\u001b[0m \u001b[32m━━━━━━━━━━━━━━━━━━━━\u001b[0m\u001b[37m\u001b[0m \u001b[1m1s\u001b[0m 3ms/step - accuracy: 0.8809 - loss: 0.2843 - val_accuracy: 0.8544 - val_loss: 0.3651\n"
     ]
    }
   ],
   "source": [
    "history = model.fit(X_train_scaled,y_train,epochs=100,validation_split=0.2)"
   ]
  },
  {
   "cell_type": "code",
   "execution_count": 22,
   "id": "4c7d51fa",
   "metadata": {
    "execution": {
     "iopub.execute_input": "2025-07-26T05:32:59.086556Z",
     "iopub.status.busy": "2025-07-26T05:32:59.086142Z",
     "iopub.status.idle": "2025-07-26T05:32:59.103316Z",
     "shell.execute_reply": "2025-07-26T05:32:59.101963Z"
    },
    "papermill": {
     "duration": 0.096504,
     "end_time": "2025-07-26T05:32:59.105556",
     "exception": false,
     "start_time": "2025-07-26T05:32:59.009052",
     "status": "completed"
    },
    "tags": []
   },
   "outputs": [
    {
     "data": {
      "text/plain": [
       "[array([[ 1.78141929e-02,  1.39062684e-02, -1.16068134e-02,\n",
       "         -3.59980702e-01,  2.23598346e-01, -1.93800136e-01,\n",
       "          1.77857473e-01,  2.97674417e-01, -3.25963438e-01,\n",
       "          3.15495729e-01, -2.77710766e-01, -1.80188835e-01,\n",
       "          2.48711631e-01,  3.08476448e-01,  6.07227497e-02,\n",
       "         -8.84473324e-02,  2.89452046e-01,  5.37745833e-01],\n",
       "        [-2.73009762e-03,  2.69074023e-01, -1.88701257e-01,\n",
       "         -7.80836701e-01, -3.39402109e-01,  9.04586673e-01,\n",
       "         -4.44277644e-01, -5.77318966e-01,  8.10390770e-01,\n",
       "          6.73364460e-01, -6.11154258e-01, -4.82659429e-01,\n",
       "          6.75977528e-01,  1.65763742e-03, -9.65142310e-01,\n",
       "          4.90524203e-01, -2.29347035e-01,  5.22676110e-01],\n",
       "        [-1.95848450e-01,  3.87591511e-01,  2.68678784e-01,\n",
       "          4.34655368e-01,  3.99418056e-01,  9.82452780e-02,\n",
       "         -3.00746951e-02, -1.13985941e-01, -3.38984817e-01,\n",
       "         -6.25702083e-01,  3.09902996e-01,  2.24953577e-01,\n",
       "          3.00123721e-01, -3.04447144e-01, -3.13696712e-02,\n",
       "         -1.20985344e-01, -1.57739967e-02,  4.68852431e-01],\n",
       "        [ 5.54839849e-01, -9.05300155e-02, -2.51952320e-01,\n",
       "         -6.86857849e-02,  1.95507526e-01, -3.30603123e-01,\n",
       "         -7.84471869e-01,  6.41189814e-01,  3.36679190e-01,\n",
       "         -4.21382606e-01, -7.06970692e-02, -6.73064470e-01,\n",
       "         -1.46395713e-01,  1.85374409e-01, -5.04235208e-01,\n",
       "          3.53923321e-01,  3.98398042e-01,  8.88798386e-02],\n",
       "        [-2.80530602e-01,  6.16155088e-01,  8.19267988e-01,\n",
       "          2.76087582e-01,  6.84903860e-01, -8.31618011e-01,\n",
       "         -6.75208986e-01, -5.19767880e-01,  7.30491042e-01,\n",
       "         -5.84957115e-02, -5.57192445e-01, -2.85296679e-01,\n",
       "          2.04955652e-01,  6.67901516e-01,  3.21178824e-01,\n",
       "         -5.37949018e-02,  8.43225062e-01,  3.84227663e-01],\n",
       "        [ 4.07031238e-01, -3.01286634e-02,  6.91389889e-02,\n",
       "         -5.39604612e-02, -9.06356499e-02, -5.71459047e-02,\n",
       "          3.92501891e-01,  1.19331228e-02,  1.51503429e-01,\n",
       "         -3.77364814e-01,  2.67190874e-01, -3.06583464e-01,\n",
       "          1.57833621e-01,  3.86681408e-01,  6.87034726e-01,\n",
       "         -1.06263705e-01, -1.24240786e-01,  2.62626912e-02],\n",
       "        [-5.45338273e-01, -8.95864725e-01, -1.15103200e-01,\n",
       "          1.69108376e-01, -4.81369868e-02, -1.14269173e-02,\n",
       "         -2.69760847e-01, -3.30069900e-01,  6.35433644e-02,\n",
       "          8.99497792e-03,  1.36928469e-01, -3.69671881e-01,\n",
       "          8.06521773e-01,  5.80288060e-02,  5.18197268e-02,\n",
       "          4.32014346e-01,  2.46245004e-02,  2.77453214e-01],\n",
       "        [-1.33367628e-01, -4.68673505e-04,  1.45375863e-01,\n",
       "          8.56482387e-02,  1.28061235e-01, -5.09826392e-02,\n",
       "         -1.42035022e-01,  2.35750794e-01, -1.02272406e-01,\n",
       "          3.66386056e-01,  6.84604645e-01, -3.34140539e-01,\n",
       "          1.43720150e-01,  3.55421305e-01, -3.16680223e-01,\n",
       "         -1.20061196e-01, -7.57338926e-02, -2.68707514e-01],\n",
       "        [ 3.97287160e-01, -7.57907256e-02, -4.21138585e-01,\n",
       "          4.04138453e-02, -3.72095853e-02,  2.42316723e-01,\n",
       "         -3.52918983e-01,  2.44680986e-01, -1.51104927e-01,\n",
       "         -4.21609849e-01, -4.96901721e-02, -4.83153760e-01,\n",
       "         -2.63929933e-01, -3.97763014e-01, -4.24750358e-01,\n",
       "          6.09442830e-01, -1.36682510e-01,  1.25874668e-01],\n",
       "        [-6.72977507e-01, -1.90217625e-02,  2.07881793e-01,\n",
       "          5.10243297e-01,  3.89179647e-01,  9.40815825e-03,\n",
       "          2.77333379e-01,  1.24260351e-01,  3.00817877e-01,\n",
       "         -2.09574908e-01,  2.63386458e-01, -6.62379190e-02,\n",
       "          2.42814422e-03, -6.23360276e-01, -2.07534462e-01,\n",
       "          3.97541486e-02,  5.68018667e-02, -3.42113882e-01],\n",
       "        [-1.04411401e-01,  1.66279674e-01, -1.10069059e-01,\n",
       "          2.40593165e-01, -2.67899394e-01, -1.14899673e-01,\n",
       "         -3.41891199e-01,  2.10494086e-01,  1.06905214e-02,\n",
       "          2.29897052e-01,  2.02085570e-01,  1.13905556e-01,\n",
       "          4.23987895e-01, -8.83506425e-03,  1.50796041e-01,\n",
       "         -4.25649792e-01,  2.08448574e-01,  2.67381012e-01]], dtype=float32),\n",
       " array([ 0.31047   ,  0.0115159 , -0.28882846,  0.18061744, -0.030169  ,\n",
       "        -0.0735842 ,  0.14050373,  0.6428099 , -0.1652018 ,  0.4048051 ,\n",
       "         0.33378947,  0.4895747 ,  0.17443906,  0.3784111 ,  0.35532883,\n",
       "         0.13469544, -0.10832156, -0.22710614], dtype=float32)]"
      ]
     },
     "execution_count": 22,
     "metadata": {},
     "output_type": "execute_result"
    }
   ],
   "source": [
    "model.layers[0].get_weights()"
   ]
  },
  {
   "cell_type": "code",
   "execution_count": 23,
   "id": "97ef3bb3",
   "metadata": {
    "execution": {
     "iopub.execute_input": "2025-07-26T05:32:59.254093Z",
     "iopub.status.busy": "2025-07-26T05:32:59.253753Z",
     "iopub.status.idle": "2025-07-26T05:32:59.265854Z",
     "shell.execute_reply": "2025-07-26T05:32:59.264561Z"
    },
    "papermill": {
     "duration": 0.089524,
     "end_time": "2025-07-26T05:32:59.267805",
     "exception": false,
     "start_time": "2025-07-26T05:32:59.178281",
     "status": "completed"
    },
    "tags": []
   },
   "outputs": [
    {
     "data": {
      "text/plain": [
       "[array([[ 0.05119772,  0.18682338, -0.09081442,  0.06574925, -0.19135274,\n",
       "          0.4475557 ,  0.17805587, -0.18930261, -0.26597095, -0.43103173,\n",
       "         -0.12602776, -0.54818416, -0.09642009, -0.4693058 ,  0.18657939,\n",
       "         -0.41338235, -0.41699192, -0.27053007],\n",
       "        [ 0.4288051 ,  0.26915333,  0.2676993 ,  0.27479586, -0.24869676,\n",
       "          0.11993971,  0.24675949,  0.07853337,  0.02446   ,  0.44335827,\n",
       "          0.5056442 ,  0.48499784,  0.14374761,  0.30028427,  0.2835721 ,\n",
       "          0.42921093, -0.4364534 ,  0.03254563],\n",
       "        [ 0.38135475, -0.00670556,  0.15075237, -0.22309713,  0.04725509,\n",
       "          0.02376191,  0.01307632, -0.19270645,  0.5690829 ,  0.04881064,\n",
       "          0.13292675,  0.4168772 ,  0.2482178 ,  0.26998913,  0.10337498,\n",
       "         -0.35929656,  0.37662995,  0.47102472],\n",
       "        [-0.14961655, -0.0479852 ,  0.27472517,  0.11646022,  0.48010316,\n",
       "          0.11897533,  0.37856907, -0.68005717,  0.05531869,  0.47667545,\n",
       "          0.13897662, -0.83607805,  0.35505128,  0.23862982, -0.21647067,\n",
       "          0.40384045, -0.22943723, -0.01319108],\n",
       "        [ 0.00952332, -0.3919331 , -0.9268313 , -0.9122788 ,  0.10251417,\n",
       "         -0.02201405,  0.33755618,  0.34364524, -0.33113894, -0.20515221,\n",
       "          0.21886523, -0.10366114, -0.2689269 ,  0.23886989, -0.2629293 ,\n",
       "         -0.43173727, -0.37416574,  0.03659479],\n",
       "        [ 0.02279811,  0.39163223,  0.11287344, -0.27892315,  0.05378831,\n",
       "         -0.33573842,  0.25975925, -0.7689196 ,  0.03541381, -0.68786204,\n",
       "         -0.22117159,  0.5328661 ,  0.29973564,  0.277931  ,  0.34508255,\n",
       "          0.17382836,  0.39955437, -0.05676403],\n",
       "        [-0.83164495, -0.13746215,  0.03175611, -0.43479088, -1.2932117 ,\n",
       "         -0.098446  ,  0.06613105, -0.51295936,  0.127357  , -0.31560352,\n",
       "          0.1885031 , -0.08482745, -0.18683615, -0.894434  ,  0.32260874,\n",
       "          0.25145608,  0.4595169 , -0.5101623 ],\n",
       "        [-0.1871616 , -0.36061442, -1.0906165 , -0.47304913, -0.20466004,\n",
       "          0.10299999,  0.4538582 ,  0.44904453,  0.00456062,  0.41168875,\n",
       "         -0.19592978,  0.24359003,  0.42276758, -0.0565341 , -0.2651147 ,\n",
       "         -0.27142462, -0.11268595, -0.74405956],\n",
       "        [-0.35832676,  0.54830277,  0.2807364 ,  0.24088967,  0.26810017,\n",
       "         -0.21406986, -0.24232797,  0.50380373,  0.28918055, -0.4994033 ,\n",
       "          0.39669693, -0.10233911, -0.18822862,  0.32324228, -0.7570219 ,\n",
       "         -0.3030818 ,  0.6294858 ,  0.39068332],\n",
       "        [ 0.15306659,  0.5950241 ,  0.26657772,  0.36570835,  0.08150233,\n",
       "         -0.047924  ,  0.39024028,  0.3765321 , -0.22887726,  0.44783875,\n",
       "          0.22321542, -0.01604425,  0.23056133, -0.48806667,  0.4010792 ,\n",
       "         -0.2767153 ,  0.10396916, -0.219183  ],\n",
       "        [-0.42558762, -0.23927218, -0.48334143,  0.08686642,  0.00947616,\n",
       "         -0.2130657 ,  0.37709093, -0.04247819,  0.22902814, -0.5821903 ,\n",
       "          0.03034756,  0.2589252 ,  0.31963184,  0.04327546, -0.27145413,\n",
       "         -0.11331889,  0.5675262 , -0.06889372],\n",
       "        [-0.382257  , -0.18063688,  0.09625535, -0.311931  , -0.82033867,\n",
       "          0.8406408 , -0.12919739,  0.6649821 , -0.21067783, -0.28028753,\n",
       "          0.27599636, -0.33918706,  0.56265986, -0.08843598,  0.41219842,\n",
       "          0.25592712, -0.20904905, -0.19523185],\n",
       "        [-0.01246588, -0.31558987,  0.5068535 , -0.2090415 ,  0.37853292,\n",
       "          0.5645503 , -0.7564994 ,  0.06499714,  0.09202018,  0.15582189,\n",
       "         -0.6029238 ,  0.39435333,  0.06678815, -0.6959739 , -0.29119954,\n",
       "         -0.55717915,  0.3180792 , -0.0648518 ],\n",
       "        [ 0.13966855,  0.31669277, -0.3774405 , -0.6784765 ,  0.54699033,\n",
       "          0.23942284, -0.08713024, -0.37648007,  0.19508646,  0.01249727,\n",
       "          0.4305465 ,  0.07774329,  0.18910147,  0.28717795, -0.10986629,\n",
       "          0.45386162, -0.14834951,  0.11392874],\n",
       "        [-0.23831093, -0.01177911, -0.15670262,  0.68513036,  0.2610404 ,\n",
       "          0.09867384, -0.3546172 , -0.2716617 ,  0.37191156,  0.2381553 ,\n",
       "         -0.059281  , -0.20905772,  0.2951569 , -0.18881601,  0.6830841 ,\n",
       "          0.38469988,  0.16853008,  0.41069263],\n",
       "        [ 0.49669355, -0.05389402,  0.10210401,  0.28984466,  0.296632  ,\n",
       "          0.26430294,  0.09862939,  0.10102851,  0.2543823 ,  0.38644654,\n",
       "          0.23647772,  0.11253174, -0.43629342, -0.13700423, -0.21970856,\n",
       "         -1.2686051 ,  0.43867972, -0.27653047],\n",
       "        [ 0.24782766, -0.06520323, -0.0810902 ,  0.16059348,  0.79712176,\n",
       "         -0.15447797, -0.07105412,  0.525864  , -0.05995956, -0.62896085,\n",
       "          0.7940677 , -0.23472819,  0.41734898,  0.07436965,  0.0041822 ,\n",
       "          0.33860382,  0.19313422,  0.1951569 ],\n",
       "        [ 0.33687943,  0.37930194,  0.18781397,  0.08376832,  0.41186225,\n",
       "         -0.01015258,  0.00617336,  0.17022882, -0.46457702,  0.10631147,\n",
       "         -0.39653072,  0.02674047,  0.36246735,  0.21589157,  0.3949657 ,\n",
       "         -0.32656097,  0.35015473,  0.06870635]], dtype=float32),\n",
       " array([ 0.04569625, -0.17866407, -0.30765122,  0.08969559, -0.1668979 ,\n",
       "         0.36629385,  0.0144146 , -0.11587478,  0.31148207, -0.02123628,\n",
       "         0.4023901 , -0.04725362,  0.2993185 , -0.22988385,  0.29648462,\n",
       "        -0.07880716, -0.07450791, -0.28807867], dtype=float32)]"
      ]
     },
     "execution_count": 23,
     "metadata": {},
     "output_type": "execute_result"
    }
   ],
   "source": [
    "model.layers[1].get_weights()"
   ]
  },
  {
   "cell_type": "code",
   "execution_count": 24,
   "id": "674a18a8",
   "metadata": {
    "execution": {
     "iopub.execute_input": "2025-07-26T05:32:59.413564Z",
     "iopub.status.busy": "2025-07-26T05:32:59.413199Z",
     "iopub.status.idle": "2025-07-26T05:32:59.806136Z",
     "shell.execute_reply": "2025-07-26T05:32:59.804833Z"
    },
    "papermill": {
     "duration": 0.470312,
     "end_time": "2025-07-26T05:32:59.808276",
     "exception": false,
     "start_time": "2025-07-26T05:32:59.337964",
     "status": "completed"
    },
    "tags": []
   },
   "outputs": [
    {
     "name": "stdout",
     "output_type": "stream",
     "text": [
      "\u001b[1m63/63\u001b[0m \u001b[32m━━━━━━━━━━━━━━━━━━━━\u001b[0m\u001b[37m\u001b[0m \u001b[1m0s\u001b[0m 3ms/step\n"
     ]
    }
   ],
   "source": [
    "y_log= model.predict(X_test_scaled)"
   ]
  },
  {
   "cell_type": "code",
   "execution_count": 25,
   "id": "28acd0a3",
   "metadata": {
    "execution": {
     "iopub.execute_input": "2025-07-26T05:32:59.959884Z",
     "iopub.status.busy": "2025-07-26T05:32:59.959448Z",
     "iopub.status.idle": "2025-07-26T05:32:59.966004Z",
     "shell.execute_reply": "2025-07-26T05:32:59.964643Z"
    },
    "papermill": {
     "duration": 0.085088,
     "end_time": "2025-07-26T05:32:59.968511",
     "exception": false,
     "start_time": "2025-07-26T05:32:59.883423",
     "status": "completed"
    },
    "tags": []
   },
   "outputs": [],
   "source": [
    "y_pred = np.where(y_log>0.5,1,0)"
   ]
  },
  {
   "cell_type": "code",
   "execution_count": 26,
   "id": "6ff58cd6",
   "metadata": {
    "execution": {
     "iopub.execute_input": "2025-07-26T05:33:00.153126Z",
     "iopub.status.busy": "2025-07-26T05:33:00.152387Z",
     "iopub.status.idle": "2025-07-26T05:33:00.160925Z",
     "shell.execute_reply": "2025-07-26T05:33:00.159844Z"
    },
    "papermill": {
     "duration": 0.08344,
     "end_time": "2025-07-26T05:33:00.162715",
     "exception": false,
     "start_time": "2025-07-26T05:33:00.079275",
     "status": "completed"
    },
    "tags": []
   },
   "outputs": [
    {
     "data": {
      "text/plain": [
       "0.8595"
      ]
     },
     "execution_count": 26,
     "metadata": {},
     "output_type": "execute_result"
    }
   ],
   "source": [
    "from sklearn.metrics import accuracy_score\n",
    "accuracy_score(y_test,y_pred)"
   ]
  },
  {
   "cell_type": "code",
   "execution_count": 27,
   "id": "7a381619",
   "metadata": {
    "execution": {
     "iopub.execute_input": "2025-07-26T05:33:00.304602Z",
     "iopub.status.busy": "2025-07-26T05:33:00.304272Z",
     "iopub.status.idle": "2025-07-26T05:33:00.650771Z",
     "shell.execute_reply": "2025-07-26T05:33:00.649530Z"
    },
    "papermill": {
     "duration": 0.419196,
     "end_time": "2025-07-26T05:33:00.653290",
     "exception": false,
     "start_time": "2025-07-26T05:33:00.234094",
     "status": "completed"
    },
    "tags": []
   },
   "outputs": [
    {
     "data": {
      "text/plain": [
       "[<matplotlib.lines.Line2D at 0x782060553710>]"
      ]
     },
     "execution_count": 27,
     "metadata": {},
     "output_type": "execute_result"
    },
    {
     "data": {
      "image/png": "[encoded data removed]",
      "text/plain": [
       "<Figure size 640x480 with 1 Axes>"
      ]
     },
     "metadata": {},
     "output_type": "display_data"
    }
   ],
   "source": [
    "import matplotlib.pyplot as plt\n",
    "plt.plot(history.history['loss'])\n",
    "plt.plot(history.history['val_loss'])"
   ]
  },
  {
   "cell_type": "code",
   "execution_count": 28,
   "id": "4d2d297b",
   "metadata": {
    "execution": {
     "iopub.execute_input": "2025-07-26T05:33:00.803950Z",
     "iopub.status.busy": "2025-07-26T05:33:00.803573Z",
     "iopub.status.idle": "2025-07-26T05:33:00.996075Z",
     "shell.execute_reply": "2025-07-26T05:33:00.994860Z"
    },
    "papermill": {
     "duration": 0.267397,
     "end_time": "2025-07-26T05:33:00.997987",
     "exception": false,
     "start_time": "2025-07-26T05:33:00.730590",
     "status": "completed"
    },
    "tags": []
   },
   "outputs": [
    {
     "data": {
      "text/plain": [
       "[<matplotlib.lines.Line2D at 0x7820605b8f10>]"
      ]
     },
     "execution_count": 28,
     "metadata": {},
     "output_type": "execute_result"
    },
    {
     "data": {
      "image/png": "[encoded data removed]",
      "text/plain": [
       "<Figure size 640x480 with 1 Axes>"
      ]
     },
     "metadata": {},
     "output_type": "display_data"
    }
   ],
   "source": [
    "plt.plot(history.history['accuracy'])\n",
    "plt.plot(history.history['val_accuracy'])"
   ]
  },
  {
   "cell_type": "code",
   "execution_count": null,
   "id": "e9061902",
   "metadata": {
    "papermill": {
     "duration": 0.074913,
     "end_time": "2025-07-26T05:33:01.150566",
     "exception": false,
     "start_time": "2025-07-26T05:33:01.075653",
     "status": "completed"
    },
    "tags": []
   },
   "outputs": [],
   "source": []
  }
 ],
 "metadata": {
  "kaggle": {
   "accelerator": "none",
   "dataSources": [
    {
     "datasetId": 869651,
     "sourceId": 1481789,
     "sourceType": "datasetVersion"
    }
   ],
   "dockerImageVersionId": 31089,
   "isGpuEnabled": false,
   "isInternetEnabled": false,
   "language": "python",
   "sourceType": "notebook"
  },
  "kernelspec": {
   "display_name": "Python 3",
   "language": "python",
   "name": "python3"
  },
  "language_info": {
   "codemirror_mode": {
    "name": "ipython",
    "version": 3
   },
   "file_extension": ".py",
   "mimetype": "text/x-python",
   "name": "python",
   "nbconvert_exporter": "python",
   "pygments_lexer": "ipython3",
   "version": "3.11.13"
  },
  "papermill": {
   "default_parameters": {},
   "duration": 111.441845,
   "end_time": "2025-07-26T05:33:04.711260",
   "environment_variables": {},
   "exception": null,
   "input_path": "__notebook__.ipynb",
   "output_path": "__notebook__.ipynb",
   "parameters": {},
   "start_time": "2025-07-26T05:31:13.269415",
   "version": "2.6.0"
  }
 },
 "nbformat": 4,
 "nbformat_minor": 5
}
